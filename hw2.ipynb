{
 "cells": [
  {
   "cell_type": "markdown",
   "metadata": {},
   "source": [
    "# Homework 2\n",
    "\n",
    "## Introduction\n",
    "\n",
    "### Important dates\n",
    "\n",
    "* Homework release: Thursday, 7th November 2019\n",
    "* **Homework due: Wednesday, 20th November 2019 (23:59 hours, 11:59 PM)**\n",
    "* **Peer review due: Wednesday, 27th November 2019 (23:59 hours, 11:59 PM)**\n",
    "* Grading release: Monday, 9th December 2019"
   ]
  },
  {
   "cell_type": "markdown",
   "metadata": {},
   "source": [
    "Finally, we are going to plot the mean message length made in each subreddit with their corresponding 99% confidence intervals.\n",
    "\n",
    "To do so, we assume the mean message length can be modeled with a normal distrubtion. \n",
    "\n",
    "In order to calculate the parameters, we use a non-parametric approach. We sample the dataset with replacement k times, compute the mean for each time and then use the mean 0.005 quantile and the 0.995 quantiles. The difference of these quantiles with the mean create the 99% confidence intervals for each subreddit.  "
   ]
  },
  {
   "cell_type": "markdown",
   "metadata": {},
   "source": [
    "**Some rules:**\n",
    "* You are allowed to use any built-in Python library that comes with Anaconda. You should make heavy use of `sklearn`, which will save you from (re)implementing any of the classical machine learning algorithms yourself. If you want to use an external library, you have to justify your choice.\n",
    "* Make sure you use the data folder provided in the repository in read-only mode.\n",
    "* Be sure to provide textual description of your thought process, the assumptions you made, the solution you implemented, and explanations for your answers. A notebook that only has code cells will not suffice.\n",
    "* Back up any hypotheses and claims with data, since this is an important aspect of the course.\n",
    "* Please write all your comments in English, and use meaningful variable names in your code. Your repo should have a single notebook (plus the data files necessary) in the master branch. If there are multiple notebooks present, we will not grade anything.\n",
    "* Also, be sure to hand in a fully-run and evaluated notebook. We will not run your notebook for you, we will grade it as is, which means that only the results contained in your evaluated code cells will be considered, and we will not see the results in unevaluated code cells. In order to check whether everything looks as intended, you can check the rendered notebook on the GitHub website once you have pushed your solution there.\n",
    "* **Important Note:** Owing to the scale of the datasets some tasks might take longer to finish, and hence, it is *recommended* that you start working on this homework as early as possible."
   ]
  },
  {
   "cell_type": "markdown",
   "metadata": {},
   "source": [
    "# Task A: Applied ML and Reading the Stats\n",
    "\n",
    "## Description\n",
    "\n",
    "You have been appointed as the manager/head-coach of Lausanne's men's football team [FC Lausanne-Sport](https://en.wikipedia.org/wiki/FC_Lausanne-Sport), and as a first step towards improving the team you decide to hire a new player. One way to assess the quality of a player would be to watch the games in which he participates. Since there are 22 players on the field, he will typically only have the ball for around 5-10 minutes per game. In addition, the ADA homework takes up all your free time, and hence, you need a more efficient and elegant solution.\n",
    "\n",
    "You hypothesize that perhaps looking at the *physical capabilities* of the candidates such as *'running'* and *'jumping'* might be a good enough proxy for their skill as a football player. Thus, you come up with the idea of letting candidate players do just a couple of exercises such as *'100m sprint'* and *'high jump'*, and decide on one of the candidates based on his performance in these exercises. Because you are an aspiring data scientist, you want to use machine learning to optimize the player selection.\n",
    "\n",
    "You come across a dataset of players from the football video game [FIFA 19](https://www.ea.com/games/fifa/fifa-19), which contains hand-annotated data about thousands of real-world football players, in particular about their skills in different domains.\n",
    "Each row of the dataset corresponds to a player (you might recognize some of them). It contains information such as the player's nationality and their market value. However, the attributes that we are interested in are the skills of the players in various footballing aspects such as *'agility'*, *'dribbling'*, or *'heading accuracy'*. Apart from one attribute (see **A2.1.**), all of them are *non-negative* values in different bounded ranges, where a *higher value* corresponds to the *player being better* in that skill."
   ]
  },
  {
   "cell_type": "markdown",
   "metadata": {},
   "source": [
    "### A1. Getting a sense of the data\n",
    "\n",
    "#### A1.1.\n",
    "Load the data present at `data/fifa19_players.csv` into a Pandas DataFrame."
   ]
  },
  {
   "cell_type": "code",
   "execution_count": 1,
   "metadata": {
    "ExecuteTime": {
     "end_time": "2019-11-20T21:19:28.333789Z",
     "start_time": "2019-11-20T21:19:26.282067Z"
    }
   },
   "outputs": [],
   "source": [
    "import numpy as np\n",
    "import pandas as pd\n",
    "import matplotlib.pyplot as plt\n",
    "from sklearn.linear_model import Ridge, RidgeCV\n",
    "from sklearn.model_selection import train_test_split, cross_val_score\n",
    "from sklearn.preprocessing import MinMaxScaler\n",
    "import warnings\n",
    "import pickle\n",
    "import seaborn as sns\n",
    "#from tqdm import tqdm\n",
    "%matplotlib inline\n",
    "warnings.filterwarnings(\"ignore\")"
   ]
  },
  {
   "cell_type": "code",
   "execution_count": 2,
   "metadata": {
    "ExecuteTime": {
     "end_time": "2019-11-20T21:19:29.623063Z",
     "start_time": "2019-11-20T21:19:28.336485Z"
    }
   },
   "outputs": [
    {
     "data": {
      "text/html": [
       "<div>\n",
       "<style scoped>\n",
       "    .dataframe tbody tr th:only-of-type {\n",
       "        vertical-align: middle;\n",
       "    }\n",
       "\n",
       "    .dataframe tbody tr th {\n",
       "        vertical-align: top;\n",
       "    }\n",
       "\n",
       "    .dataframe thead th {\n",
       "        text-align: right;\n",
       "    }\n",
       "</style>\n",
       "<table border=\"1\" class=\"dataframe\">\n",
       "  <thead>\n",
       "    <tr style=\"text-align: right;\">\n",
       "      <th></th>\n",
       "      <th>Unnamed: 0</th>\n",
       "      <th>Unnamed: 0.1</th>\n",
       "      <th>ID</th>\n",
       "      <th>Name</th>\n",
       "      <th>Age</th>\n",
       "      <th>Photo</th>\n",
       "      <th>Nationality</th>\n",
       "      <th>Flag</th>\n",
       "      <th>Overall</th>\n",
       "      <th>Potential</th>\n",
       "      <th>...</th>\n",
       "      <th>Composure</th>\n",
       "      <th>Marking</th>\n",
       "      <th>StandingTackle</th>\n",
       "      <th>SlidingTackle</th>\n",
       "      <th>GKDiving</th>\n",
       "      <th>GKHandling</th>\n",
       "      <th>GKKicking</th>\n",
       "      <th>GKPositioning</th>\n",
       "      <th>GKReflexes</th>\n",
       "      <th>Release Clause</th>\n",
       "    </tr>\n",
       "  </thead>\n",
       "  <tbody>\n",
       "    <tr>\n",
       "      <td>18154</td>\n",
       "      <td>18202</td>\n",
       "      <td>18202</td>\n",
       "      <td>238813</td>\n",
       "      <td>J. Lundstram</td>\n",
       "      <td>19</td>\n",
       "      <td>https://cdn.sofifa.org/players/4/19/238813.png</td>\n",
       "      <td>England</td>\n",
       "      <td>https://cdn.sofifa.org/flags/14.png</td>\n",
       "      <td>47</td>\n",
       "      <td>65</td>\n",
       "      <td>...</td>\n",
       "      <td>45.0</td>\n",
       "      <td>40.0</td>\n",
       "      <td>48.0</td>\n",
       "      <td>47.0</td>\n",
       "      <td>10.0</td>\n",
       "      <td>13.0</td>\n",
       "      <td>7.0</td>\n",
       "      <td>8.0</td>\n",
       "      <td>9.0</td>\n",
       "      <td>€143K</td>\n",
       "    </tr>\n",
       "    <tr>\n",
       "      <td>18155</td>\n",
       "      <td>18203</td>\n",
       "      <td>18203</td>\n",
       "      <td>243165</td>\n",
       "      <td>N. Christoffersson</td>\n",
       "      <td>19</td>\n",
       "      <td>https://cdn.sofifa.org/players/4/19/243165.png</td>\n",
       "      <td>Sweden</td>\n",
       "      <td>https://cdn.sofifa.org/flags/46.png</td>\n",
       "      <td>47</td>\n",
       "      <td>63</td>\n",
       "      <td>...</td>\n",
       "      <td>42.0</td>\n",
       "      <td>22.0</td>\n",
       "      <td>15.0</td>\n",
       "      <td>19.0</td>\n",
       "      <td>10.0</td>\n",
       "      <td>9.0</td>\n",
       "      <td>9.0</td>\n",
       "      <td>5.0</td>\n",
       "      <td>12.0</td>\n",
       "      <td>€113K</td>\n",
       "    </tr>\n",
       "    <tr>\n",
       "      <td>18156</td>\n",
       "      <td>18204</td>\n",
       "      <td>18204</td>\n",
       "      <td>241638</td>\n",
       "      <td>B. Worman</td>\n",
       "      <td>16</td>\n",
       "      <td>https://cdn.sofifa.org/players/4/19/241638.png</td>\n",
       "      <td>England</td>\n",
       "      <td>https://cdn.sofifa.org/flags/14.png</td>\n",
       "      <td>47</td>\n",
       "      <td>67</td>\n",
       "      <td>...</td>\n",
       "      <td>41.0</td>\n",
       "      <td>32.0</td>\n",
       "      <td>13.0</td>\n",
       "      <td>11.0</td>\n",
       "      <td>6.0</td>\n",
       "      <td>5.0</td>\n",
       "      <td>10.0</td>\n",
       "      <td>6.0</td>\n",
       "      <td>13.0</td>\n",
       "      <td>€165K</td>\n",
       "    </tr>\n",
       "    <tr>\n",
       "      <td>18157</td>\n",
       "      <td>18205</td>\n",
       "      <td>18205</td>\n",
       "      <td>246268</td>\n",
       "      <td>D. Walker-Rice</td>\n",
       "      <td>17</td>\n",
       "      <td>https://cdn.sofifa.org/players/4/19/246268.png</td>\n",
       "      <td>England</td>\n",
       "      <td>https://cdn.sofifa.org/flags/14.png</td>\n",
       "      <td>47</td>\n",
       "      <td>66</td>\n",
       "      <td>...</td>\n",
       "      <td>46.0</td>\n",
       "      <td>20.0</td>\n",
       "      <td>25.0</td>\n",
       "      <td>27.0</td>\n",
       "      <td>14.0</td>\n",
       "      <td>6.0</td>\n",
       "      <td>14.0</td>\n",
       "      <td>8.0</td>\n",
       "      <td>9.0</td>\n",
       "      <td>€143K</td>\n",
       "    </tr>\n",
       "    <tr>\n",
       "      <td>18158</td>\n",
       "      <td>18206</td>\n",
       "      <td>18206</td>\n",
       "      <td>246269</td>\n",
       "      <td>G. Nugent</td>\n",
       "      <td>16</td>\n",
       "      <td>https://cdn.sofifa.org/players/4/19/246269.png</td>\n",
       "      <td>England</td>\n",
       "      <td>https://cdn.sofifa.org/flags/14.png</td>\n",
       "      <td>46</td>\n",
       "      <td>66</td>\n",
       "      <td>...</td>\n",
       "      <td>43.0</td>\n",
       "      <td>40.0</td>\n",
       "      <td>43.0</td>\n",
       "      <td>50.0</td>\n",
       "      <td>10.0</td>\n",
       "      <td>15.0</td>\n",
       "      <td>9.0</td>\n",
       "      <td>12.0</td>\n",
       "      <td>9.0</td>\n",
       "      <td>€165K</td>\n",
       "    </tr>\n",
       "  </tbody>\n",
       "</table>\n",
       "<p>5 rows × 90 columns</p>\n",
       "</div>"
      ],
      "text/plain": [
       "       Unnamed: 0  Unnamed: 0.1      ID                Name  Age  \\\n",
       "18154       18202         18202  238813        J. Lundstram   19   \n",
       "18155       18203         18203  243165  N. Christoffersson   19   \n",
       "18156       18204         18204  241638           B. Worman   16   \n",
       "18157       18205         18205  246268      D. Walker-Rice   17   \n",
       "18158       18206         18206  246269           G. Nugent   16   \n",
       "\n",
       "                                                Photo Nationality  \\\n",
       "18154  https://cdn.sofifa.org/players/4/19/238813.png     England   \n",
       "18155  https://cdn.sofifa.org/players/4/19/243165.png      Sweden   \n",
       "18156  https://cdn.sofifa.org/players/4/19/241638.png     England   \n",
       "18157  https://cdn.sofifa.org/players/4/19/246268.png     England   \n",
       "18158  https://cdn.sofifa.org/players/4/19/246269.png     England   \n",
       "\n",
       "                                      Flag  Overall  Potential  ... Composure  \\\n",
       "18154  https://cdn.sofifa.org/flags/14.png       47         65  ...      45.0   \n",
       "18155  https://cdn.sofifa.org/flags/46.png       47         63  ...      42.0   \n",
       "18156  https://cdn.sofifa.org/flags/14.png       47         67  ...      41.0   \n",
       "18157  https://cdn.sofifa.org/flags/14.png       47         66  ...      46.0   \n",
       "18158  https://cdn.sofifa.org/flags/14.png       46         66  ...      43.0   \n",
       "\n",
       "      Marking StandingTackle SlidingTackle  GKDiving GKHandling  GKKicking  \\\n",
       "18154    40.0           48.0          47.0      10.0       13.0        7.0   \n",
       "18155    22.0           15.0          19.0      10.0        9.0        9.0   \n",
       "18156    32.0           13.0          11.0       6.0        5.0       10.0   \n",
       "18157    20.0           25.0          27.0      14.0        6.0       14.0   \n",
       "18158    40.0           43.0          50.0      10.0       15.0        9.0   \n",
       "\n",
       "       GKPositioning  GKReflexes Release Clause  \n",
       "18154            8.0         9.0          €143K  \n",
       "18155            5.0        12.0          €113K  \n",
       "18156            6.0        13.0          €165K  \n",
       "18157            8.0         9.0          €143K  \n",
       "18158           12.0         9.0          €165K  \n",
       "\n",
       "[5 rows x 90 columns]"
      ]
     },
     "execution_count": 2,
     "metadata": {},
     "output_type": "execute_result"
    }
   ],
   "source": [
    "fifa19_df = pd.read_csv('data/fifa19_players.csv', delimiter=',')\n",
    "fifa19_df.tail()"
   ]
  },
  {
   "cell_type": "markdown",
   "metadata": {},
   "source": [
    "#### A1.2.\n",
    "The column *'Overall'* contains a score representing the overall performance of a football player. Before you start, you want to make sure that there is enough diversity in the dataset to draw meaningful conclusions (e.g. it shouldn't be the case that all players come roughly from the same skill class).\n",
    "* First, think about what kind of distribution you would expect for the overall scores.\n",
    "* Moving ahead, plot a histogram of the scores with *30 equal-width bins* and analyze the plot. Is this the distribution that you had expected?"
   ]
  },
  {
   "cell_type": "markdown",
   "metadata": {},
   "source": [
    "As we are talking about a distribution of averages (as the *overall* performance of a player is their average performance across several different skills), we would expect a distribution that at least tends towards a **normal distribution** as the number of players increases. (A result directly derived from the Central Limit Theorem.)"
   ]
  },
  {
   "cell_type": "code",
   "execution_count": 3,
   "metadata": {
    "ExecuteTime": {
     "end_time": "2019-11-20T21:19:30.077907Z",
     "start_time": "2019-11-20T21:19:29.628918Z"
    }
   },
   "outputs": [
    {
     "data": {
      "image/png": "[encoded data removed]",
      "text/plain": [
       "<Figure size 864x288 with 1 Axes>"
      ]
     },
     "metadata": {
      "needs_background": "light"
     },
     "output_type": "display_data"
    }
   ],
   "source": [
    "BIN_NUMBER = 30\n",
    "\n",
    "# create bins\n",
    "bin_width = (max(fifa19_df['Overall']) - min(fifa19_df['Overall']))/BIN_NUMBER\n",
    "bin_limits = np.arange(min(fifa19_df['Overall']), max(fifa19_df['Overall']) + bin_width, bin_width)\n",
    "\n",
    "# plot the histogram\n",
    "plt.figure(figsize=(12,4))\n",
    "plt.hist(fifa19_df['Overall'], bins=bin_limits, rwidth=0.8)\n",
    "plt.xlabel('Player overal score')\n",
    "plt.ylabel('Number of players')\n",
    "plt.title('Overall performance scores of football players')\n",
    "plt.xticks(bin_limits, rotation=60)\n",
    "plt.show()"
   ]
  },
  {
   "cell_type": "markdown",
   "metadata": {},
   "source": [
    "#### A1.3.\n",
    "If you observe differences from what you expected in **A1.2.**, they might be due to a misrepresentation by the plot. Carefully study the actual values in the *'Overall'* column and **fix** the histogram accordingly! Redo the plot of step A1.2., and briefly state your observations."
   ]
  },
  {
   "cell_type": "markdown",
   "metadata": {},
   "source": [
    "Several columns appear to be at half the expected height. However, it should be noted that the *overall* player performance is described using **only integers** - leading some columns to have only 1 acceptable integer value while the next typically contains 2, thus creating this discrepancy. \n",
    "\n",
    "<br>\n",
    "\n",
    "<div style=\"margin-left:5%\"><em>One example is the bin \\[65.2, 66.8[, which only accepts the integer value 66, and the bin that follows it, \\[66.8, 68.4\\[, which takes both the values 67 and 68. This explains why some columns look like they are at half their expected height (or, equivalently, the other seems to be twice as tall as would be expectable).</em></div>\n",
    "\n",
    "As such, to solve this we must **adjust our bins**."
   ]
  },
  {
   "cell_type": "code",
   "execution_count": 4,
   "metadata": {
    "ExecuteTime": {
     "end_time": "2019-11-20T21:19:30.503570Z",
     "start_time": "2019-11-20T21:19:30.084277Z"
    }
   },
   "outputs": [
    {
     "data": {
      "image/png": "[encoded data removed]",
      "text/plain": [
       "<Figure size 864x288 with 1 Axes>"
      ]
     },
     "metadata": {
      "needs_background": "light"
     },
     "output_type": "display_data"
    }
   ],
   "source": [
    "fifa19_BIN_NUMBER = 30\n",
    "\n",
    "# create integer-specific bins\n",
    "bin_width = int((max(fifa19_df['Overall']) - min(fifa19_df['Overall']))/BIN_NUMBER) + 1\n",
    "bin_limits = range(min(fifa19_df['Overall']), max(fifa19_df['Overall']) + bin_width, bin_width)\n",
    "\n",
    "# redo the histogram\n",
    "plt.figure(figsize=(12,4))\n",
    "plt.hist(fifa19_df['Overall'], bins=bin_limits, rwidth=0.8)\n",
    "plt.xlabel('Player overal score')\n",
    "plt.ylabel('Number of players')\n",
    "plt.title('Overall performance scores of football players')\n",
    "plt.xticks(bin_limits, rotation=60)\n",
    "plt.show()"
   ]
  },
  {
   "cell_type": "markdown",
   "metadata": {},
   "source": [
    "### A2. Preprocessing\n",
    "\n",
    "The features that you will use for the remainder of the tasks are the following; you can safely discard the rest of the columns."
   ]
  },
  {
   "cell_type": "code",
   "execution_count": 5,
   "metadata": {
    "ExecuteTime": {
     "end_time": "2019-11-20T21:19:30.512223Z",
     "start_time": "2019-11-20T21:19:30.507648Z"
    }
   },
   "outputs": [],
   "source": [
    "skills = ['Overall', 'Weak Foot', 'Skill Moves', 'Work Rate', 'Crossing',\n",
    "       'Finishing', 'HeadingAccuracy', 'ShortPassing', 'Volleys', 'Dribbling',\n",
    "       'Curve', 'FKAccuracy', 'LongPassing', 'BallControl', 'Acceleration',\n",
    "       'SprintSpeed', 'Agility', 'Reactions', 'Balance', 'ShotPower',\n",
    "       'Jumping', 'Stamina', 'Strength', 'LongShots', 'Aggression',\n",
    "       'Interceptions', 'Positioning', 'Vision', 'Penalties', 'Composure',\n",
    "       'Marking', 'StandingTackle', 'SlidingTackle', 'GKDiving', 'GKHandling',\n",
    "       'GKKicking', 'GKPositioning', 'GKReflexes']"
   ]
  },
  {
   "cell_type": "markdown",
   "metadata": {},
   "source": [
    "#### A2.1.\n",
    "Since your final goal will be to train a *linear machine learning model*, all of the features you use need to be *numerical*. 'Work Rate' refers to how much effort a player puts into his play when attacking and defending, respectively, but it is non-numeric and non-atomic. Transform the feature into _two_ numerical features."
   ]
  },
  {
   "cell_type": "code",
   "execution_count": 6,
   "metadata": {
    "ExecuteTime": {
     "end_time": "2019-11-20T21:19:30.592529Z",
     "start_time": "2019-11-20T21:19:30.514875Z"
    }
   },
   "outputs": [
    {
     "data": {
      "text/html": [
       "<div>\n",
       "<style scoped>\n",
       "    .dataframe tbody tr th:only-of-type {\n",
       "        vertical-align: middle;\n",
       "    }\n",
       "\n",
       "    .dataframe tbody tr th {\n",
       "        vertical-align: top;\n",
       "    }\n",
       "\n",
       "    .dataframe thead th {\n",
       "        text-align: right;\n",
       "    }\n",
       "</style>\n",
       "<table border=\"1\" class=\"dataframe\">\n",
       "  <thead>\n",
       "    <tr style=\"text-align: right;\">\n",
       "      <th></th>\n",
       "      <th>Attack Effort</th>\n",
       "      <th>Defense Effort</th>\n",
       "    </tr>\n",
       "  </thead>\n",
       "  <tbody>\n",
       "    <tr>\n",
       "      <td>0</td>\n",
       "      <td>1</td>\n",
       "      <td>1</td>\n",
       "    </tr>\n",
       "    <tr>\n",
       "      <td>1</td>\n",
       "      <td>2</td>\n",
       "      <td>0</td>\n",
       "    </tr>\n",
       "    <tr>\n",
       "      <td>2</td>\n",
       "      <td>2</td>\n",
       "      <td>1</td>\n",
       "    </tr>\n",
       "    <tr>\n",
       "      <td>3</td>\n",
       "      <td>1</td>\n",
       "      <td>1</td>\n",
       "    </tr>\n",
       "    <tr>\n",
       "      <td>4</td>\n",
       "      <td>2</td>\n",
       "      <td>2</td>\n",
       "    </tr>\n",
       "  </tbody>\n",
       "</table>\n",
       "</div>"
      ],
      "text/plain": [
       "   Attack Effort  Defense Effort\n",
       "0              1               1\n",
       "1              2               0\n",
       "2              2               1\n",
       "3              1               1\n",
       "4              2               2"
      ]
     },
     "execution_count": 6,
     "metadata": {},
     "output_type": "execute_result"
    }
   ],
   "source": [
    "# discard features\n",
    "fifa19_df = fifa19_df[skills]\n",
    "\n",
    "# transform 'Work Rate' into two *numerical* features ( .str.split is more efficient than .apply )\n",
    "# (each feature can take one of three values, 'Low', 'Medium', or 'High')\n",
    "fifa19_df[['Attack Effort', 'Defense Effort']] = fifa19_df['Work Rate'].str.split(\"/ \", expand=True)\n",
    "fifa19_df['Attack Effort'] = fifa19_df['Attack Effort'].map({'Low': 0, 'Medium': 1, 'High': 2})\n",
    "fifa19_df['Defense Effort'] = fifa19_df['Defense Effort'].map({'Low': 0, 'Medium': 1, 'High': 2})\n",
    "\n",
    "fifa19_df[['Attack Effort', 'Defense Effort']].head()"
   ]
  },
  {
   "cell_type": "markdown",
   "metadata": {},
   "source": [
    "#### A2.2.\n",
    "As it is true for any real-world dataset out there, you might encounter *missing values*. There are numerous ways to *impute* them (fill them up) by looking at records for which these values are not missing.\n",
    "* Use a *simple aggregation* of the records for which the values are present (not missing) to fill in the missing values.\n",
    "* Briefly *justify* the choice of your *aggregation scheme*."
   ]
  },
  {
   "cell_type": "markdown",
   "metadata": {},
   "source": [
    "We will first **get an idea of the the fields missing values** - both how many values they are missing and their distribution's overall shape."
   ]
  },
  {
   "cell_type": "code",
   "execution_count": 7,
   "metadata": {
    "ExecuteTime": {
     "end_time": "2019-11-20T21:19:30.969166Z",
     "start_time": "2019-11-20T21:19:30.596574Z"
    }
   },
   "outputs": [
    {
     "data": {
      "image/png": "[encoded data removed]",
      "text/plain": [
       "<Figure size 864x288 with 2 Axes>"
      ]
     },
     "metadata": {
      "needs_background": "light"
     },
     "output_type": "display_data"
    }
   ],
   "source": [
    "f, (ax1, ax2) = plt.subplots(1, 2, figsize=(12,4), gridspec_kw = {'width_ratios':[2, 1]})\n",
    "\n",
    "# get an idea of the distribution\n",
    "fifa19_df['SprintSpeed'].hist(ax=ax1, width=7)\n",
    "ax1.set_title(\"SprintSpeed's distribution\")\n",
    "ax1.set_xlabel(\"SprintSpeed value\")\n",
    "ax1.set_ylabel(\"Number of players\")\n",
    "\n",
    "# get an idea of the missing values\n",
    "fifa19_in = fifa19_df.isnull()\n",
    "absolute = fifa19_in.sum().sort_values(ascending=False)[:3]\n",
    "percentage = 100*(fifa19_in.sum()/fifa19_in.count()).sort_values(ascending=False).round(5)[:3]\n",
    "fifa19_in = pd.concat([absolute, percentage], axis=1, keys=['Total', 'Percentage (%)'])\n",
    "\n",
    "font_size=12\n",
    "bbox=[1, 0, 1, 1]\n",
    "ax2.axis('off')\n",
    "mpl_table = ax2.table(\n",
    "    cellText = fifa19_in.values, rowLabels = fifa19_in.index, \n",
    "    bbox=bbox, colLabels=fifa19_in.columns)\n",
    "mpl_table.auto_set_font_size(False)\n",
    "mpl_table.set_fontsize(font_size)\n",
    "ax2.set_title(\"Missing values    \", loc=\"right\")\n",
    "\n",
    "plt.show()"
   ]
  },
  {
   "cell_type": "markdown",
   "metadata": {},
   "source": [
    "<div style=\"display:inline-block;width:68%\">\n",
    "    <p><span style=\"background-color:rgb(225,225,225);font-family:monospace\">SprintSpeed</span> is a numerical variable with values ranging from 12.0 to 96.0. It has 6 missing values. It also displays a left-skewed distribution.</p>\n",
    "    <p>As such, we decided to replace the missing values with their median, as it is minimizes the distance to any possible value they might have had.</p>\n",
    "    <p>Finally, it should be noted that there are more advanced imputation methods, like regression imputation (where the missing value is predicted by applying regression over the other variables).</p></div>\n",
    "<img src=\"https://sixsigmadsi.com/wp-content/uploads/2018/11/Left-Skewed-Distribution.jpg\" style=\"display:inline-block;width:24%;float:right;margin-right:6%\"/>\n",
    "<div><span style=\"font-size:6pt\"><p></p><p>Image Credits: SSDSI Blog, at https://sixsigmadsi.com/median-measure-of-central-tendency/, on november 2019.</p></span></div>"
   ]
  },
  {
   "cell_type": "code",
   "execution_count": 8,
   "metadata": {
    "ExecuteTime": {
     "end_time": "2019-11-20T21:19:30.980737Z",
     "start_time": "2019-11-20T21:19:30.975518Z"
    }
   },
   "outputs": [],
   "source": [
    "# fill them in\n",
    "fifa19_df['SprintSpeed'].fillna(value=fifa19_df['SprintSpeed'].median(), inplace=True)"
   ]
  },
  {
   "cell_type": "markdown",
   "metadata": {},
   "source": [
    "## A3. Building a regression model\n",
    "\n",
    "By letting them perform exercises, you have gathered data about the following athletic skills (except for the *overall football performance*) of your candidate players:"
   ]
  },
  {
   "cell_type": "code",
   "execution_count": 9,
   "metadata": {
    "ExecuteTime": {
     "end_time": "2019-11-20T21:19:30.989265Z",
     "start_time": "2019-11-20T21:19:30.985150Z"
    }
   },
   "outputs": [],
   "source": [
    "athletic_skills = ['Overall', 'Acceleration',\n",
    "       'SprintSpeed', 'Agility', 'Reactions', 'Balance',\n",
    "       'Jumping', 'Stamina', 'Strength']"
   ]
  },
  {
   "cell_type": "markdown",
   "metadata": {},
   "source": [
    "To decide which player to hire, you need to know how these skills transfer to football performance.\n",
    "\n",
    "To predict the football performance of a player, you want to build a linear model with an additional regularization term to prevent overfitting. The specific model used in this exercise is L2-regularized linear regression, aka \"Ridge Regression\". It combines the least squares linear regression model that you know from the lecture with a penalty on the norm of the weight vector [1]. The function that Ridge Regression minimizes is\n",
    "\n",
    "$$||y-Xw||_2^2 + \\alpha ||w||_2^2,$$\n",
    "\n",
    "where $y$ is a vector of overall ratings, $X$ is the matrix of data vectors with each *row* being the features of a football player, $w$ is the weight vector, and $\\alpha$ is the (non-negative) regularization parameter.\n",
    "\n",
    "[1] If there are enough model parameters, a powerful machine learning model will be able to \"memorize\" the value it is supposed to predict for some training examples. That means, it will perform well on those training examples, but will perform much worse on data that was not used for training. One way to counter this is to penalize large weight values. This can be thought of as reducing the complexity of the model.\n",
    "\n",
    "### A3.1.\n",
    "Split the data randomly into a train (70%) and a test set (30%). Use 1 as the random seed."
   ]
  },
  {
   "cell_type": "code",
   "execution_count": 10,
   "metadata": {
    "ExecuteTime": {
     "end_time": "2019-11-20T21:19:31.006929Z",
     "start_time": "2019-11-20T21:19:30.992960Z"
    }
   },
   "outputs": [],
   "source": [
    "athletic_df = fifa19_df[athletic_skills]\n",
    "X_train, X_test, y_train, y_test = train_test_split(athletic_df.drop(['Overall'], axis=1), \n",
    "                                                    athletic_df['Overall'], \n",
    "                                                    test_size=0.30, \n",
    "                                                    random_state=1)"
   ]
  },
  {
   "cell_type": "markdown",
   "metadata": {},
   "source": [
    "### A3.2.\n",
    "Build a Ridge Regression model that predicts a player's overall football performance from the other feature in the list above (sklearn might be helpful here).\n",
    "\n",
    "Ridge Regression has a regularization parameter $\\alpha$. Optimize it in the range [0, 2000] via cross validation. Use as a metric the mean squared error. Plot the cross-validation error as a function of the regularization parameter and choose the best parameter for your final model."
   ]
  },
  {
   "cell_type": "code",
   "execution_count": 11,
   "metadata": {
    "ExecuteTime": {
     "end_time": "2019-11-20T21:20:07.183607Z",
     "start_time": "2019-11-20T21:19:31.009902Z"
    }
   },
   "outputs": [],
   "source": [
    "# build ridge models for alphas in range\n",
    "alpha_range = np.arange(0.1, 2000, 0.1)\n",
    "\n",
    "ridge_cv = RidgeCV(alphas=alpha_range, store_cv_values=True)\n",
    "ridge_cv.fit(X_train, y_train)\n",
    "scores = np.average(ridge_cv.cv_values_,axis=0)"
   ]
  },
  {
   "cell_type": "code",
   "execution_count": 12,
   "metadata": {
    "ExecuteTime": {
     "end_time": "2019-11-20T21:20:07.836132Z",
     "start_time": "2019-11-20T21:20:07.189311Z"
    }
   },
   "outputs": [
    {
     "data": {
      "image/png": "[encoded data removed]",
      "text/plain": [
       "<Figure size 1152x288 with 2 Axes>"
      ]
     },
     "metadata": {
      "needs_background": "light"
     },
     "output_type": "display_data"
    }
   ],
   "source": [
    "# plot the CV error as a function of alpha\n",
    "f, (ax1, ax2) = plt.subplots(1, 2, figsize=(16,4), gridspec_kw = {'width_ratios':[5, 2]})\n",
    "\n",
    "ax1.plot(alpha_range, scores)\n",
    "ax1.set_title('The cross validation error as a function of alpha')\n",
    "ax1.set_xlabel('Value of alpha (the regularization parameter)')\n",
    "ax1.set_ylabel('The cross validation error')\n",
    "\n",
    "\n",
    "ax2.plot(alpha_range[:1500], scores[:1500])\n",
    "ax2.set_title('A zoom-in on the first values of alpha', y=1.08)\n",
    "ax2.set_xlabel('First 1500 values of alpha')\n",
    "ax2.set_ylabel('The cross validation error')\n",
    "\n",
    "\n",
    "plt.show()"
   ]
  },
  {
   "cell_type": "code",
   "execution_count": 13,
   "metadata": {
    "ExecuteTime": {
     "end_time": "2019-11-20T21:20:07.847860Z",
     "start_time": "2019-11-20T21:20:07.838736Z"
    }
   },
   "outputs": [
    {
     "name": "stdout",
     "output_type": "stream",
     "text": [
      "Best alpha: 50.2\n"
     ]
    }
   ],
   "source": [
    "# pick the best alpha\n",
    "best_alpha_a3 = ridge_cv.alpha_\n",
    "print(\"Best alpha: {}\".format(best_alpha_a3))"
   ]
  },
  {
   "cell_type": "code",
   "execution_count": 14,
   "metadata": {
    "ExecuteTime": {
     "end_time": "2019-11-20T21:20:07.863006Z",
     "start_time": "2019-11-20T21:20:07.851710Z"
    }
   },
   "outputs": [],
   "source": [
    "with open('./data/athletic_df.pickle', 'wb') as fp:\n",
    "    pickle.dump(athletic_df, fp)"
   ]
  },
  {
   "cell_type": "markdown",
   "metadata": {},
   "source": [
    "## A4. Feature importance\n",
    "\n",
    "\n",
    "Hiring new players isn't the only job of a manager/head-coach; another important one is training players. While you are at it, you think, why not use the insights gained from the hiring process to also improve the training process of your entire team? Since a training session can only last a limited amount of time and there are several possible exercises to do, you want to know which athletic skill should your training process focus the most upon. Your idea is to use the *weights* of your regression model as a guidance: In your opinion, a *higher weight* for an athletic skill should mean that this skill is highly *predictive* of the football performance.\n",
    "\n",
    "### A4.1.\n",
    "* Print the weights. Why might it *not* be a good idea to use them as they are for gauging a skill's importance?\n",
    "* How can you fix this?\n",
    "* What has changed due to your fix?\n",
    "\n",
    "*Hint: Some skills could get disadvantaged (carefully study the ranges of the corresponding features)! This can be prevented by another preprocessing step discussed in the lecture that takes care of differing ranges, after which you need to train the model again.*"
   ]
  },
  {
   "cell_type": "code",
   "execution_count": 15,
   "metadata": {
    "ExecuteTime": {
     "end_time": "2019-11-20T21:20:07.878746Z",
     "start_time": "2019-11-20T21:20:07.868422Z"
    }
   },
   "outputs": [],
   "source": [
    "with open('./data/athletic_df.pickle', 'rb') as fp:\n",
    "    athletic_df = pickle.load(fp)\n",
    "columns = [\n",
    "    'overall', 'acceleration', 'sprint_speed', 'agility', 'reactions', \n",
    "    'balance', 'jumping', 'stamina', 'strength'\n",
    "]\n",
    "athletic_df.columns = columns"
   ]
  },
  {
   "cell_type": "markdown",
   "metadata": {},
   "source": [
    "Now that we know that Ridge regression performs best with a value of 50.2 for $\\alpha$, let's retrain this model and extract the coefficients."
   ]
  },
  {
   "cell_type": "code",
   "execution_count": 16,
   "metadata": {
    "ExecuteTime": {
     "end_time": "2019-11-20T21:20:07.896463Z",
     "start_time": "2019-11-20T21:20:07.882826Z"
    }
   },
   "outputs": [],
   "source": [
    "ridge = Ridge(alpha=best_alpha_a3)\n",
    "ridge.fit(X_train, y_train) \n",
    "ridge_coeff = ridge.coef_"
   ]
  },
  {
   "cell_type": "markdown",
   "metadata": {},
   "source": [
    "As you can see below, all coefficients from the ridge model are around the same scale ($10^{-3}$ to $10^{-2}$) except the one associated to the <b>jumping</b> and <b>reactions</b> attribute.\n",
    "\n",
    "If we look into both columns, we can see that the range of values <b>jumping</b> can take is scaled by a factor of $10^{-2}$ compared to the other attributes. However, the values from the column <b>reactions</b> however, are in the same range as the other attributes. The algorithm might be compensating on the coefficients to palliate the bias introduced by the order of magnitude of some of the attributes.\n",
    "<br> In order to correct this bias present, we scale all values using the same method."
   ]
  },
  {
   "cell_type": "code",
   "execution_count": 17,
   "metadata": {
    "ExecuteTime": {
     "end_time": "2019-11-20T21:20:08.025971Z",
     "start_time": "2019-11-20T21:20:07.900504Z"
    }
   },
   "outputs": [
    {
     "name": "stdout",
     "output_type": "stream",
     "text": [
      "Column:  \u001b[1m acceleration \u001b[0m with range: 12.0 - 97.0 and coefficient 0.003276065016413896\n",
      "Column:  \u001b[1m sprint_speed \u001b[0m with range: 12.0 - 96.0 and coefficient 0.015757000206961098\n",
      "Column:  \u001b[1m agility \u001b[0m with range: 14.0 - 96.0 and coefficient 0.04791018814314656\n",
      "Column:  \u001b[1m reactions \u001b[0m with range: 21.0 - 96.0 and coefficient 0.6051317196873204\n",
      "Column:  \u001b[1m balance \u001b[0m with range: 16.0 - 96.0 and coefficient -0.032795191560489836\n",
      "Column:  \u001b[1m jumping \u001b[0m with range: 0.15 - 0.95 and coefficient 0.43494453734129934\n",
      "Column:  \u001b[1m stamina \u001b[0m with range: 12.0 - 96.0 and coefficient -0.007503088137763341\n",
      "Column:  \u001b[1m strength \u001b[0m with range: 17.0 - 97.0 and coefficient 0.07142683181603393\n"
     ]
    }
   ],
   "source": [
    "for j in (range(len(athletic_df.columns)-1)):\n",
    "    i=j+1\n",
    "    coef = ridge_coeff[j]\n",
    "    col = athletic_df.columns[i]\n",
    "    mini = min(athletic_df[col])\n",
    "    maxi = max(athletic_df[col])\n",
    "    print(\"Column: \",'\\033[1m', col, '\\033[0m', 'with range:', mini, '-', maxi, 'and coefficient', coef )\n"
   ]
  },
  {
   "cell_type": "markdown",
   "metadata": {},
   "source": [
    "In order to choose which scaling method to apply (*min max scaling* or *standardisation*), we first need to check whether the data has outliers (in which case we need to reject the min max scaling method) or if it's normally distributed (in which case we can use the *standardisation*. <br>\n",
    "\n",
    "From the plot below, we can infer that each of the columns has its fair share of outliers, and most of them follow a left skewed distribution. However, the outliers, though plentiful, are not too spread from the quartiles. We decide thus to apply the *min max scaling scaling* method to our dataframe."
   ]
  },
  {
   "cell_type": "code",
   "execution_count": 18,
   "metadata": {
    "ExecuteTime": {
     "end_time": "2019-11-20T21:20:10.640040Z",
     "start_time": "2019-11-20T21:20:08.057230Z"
    }
   },
   "outputs": [
    {
     "data": {
      "image/png": "[encoded data removed]",
      "text/plain": [
       "<Figure size 1152x504 with 8 Axes>"
      ]
     },
     "metadata": {
      "needs_background": "light"
     },
     "output_type": "display_data"
    },
    {
     "data": {
      "image/png": "[encoded data removed]",
      "text/plain": [
       "<Figure size 1152x504 with 8 Axes>"
      ]
     },
     "metadata": {
      "needs_background": "light"
     },
     "output_type": "display_data"
    }
   ],
   "source": [
    "# Checking for outliers\n",
    "plt.figure(figsize=(16, 7))\n",
    "for j in range(len(athletic_df.columns)-1):\n",
    "    i=j+1\n",
    "    \n",
    "    col = athletic_df.columns[i]\n",
    "    \n",
    "    plt.subplot(2, 4, i)\n",
    "    sns.boxplot(athletic_df[col])\n",
    "plt.suptitle('Boxplots of the Different Attributes')\n",
    "plt.show()\n",
    "    \n",
    "# Checking for normal distribution\n",
    "plt.figure(figsize=(16, 7))\n",
    "for j in range(len(athletic_df.columns)-1):\n",
    "    i=j+1\n",
    "    \n",
    "    col = athletic_df.columns[i]\n",
    "    \n",
    "    plt.subplot(2, 4, i)\n",
    "    sns.distplot(athletic_df[col])\n",
    "plt.suptitle('Distribution of the Values from the Different Attributes')\n",
    "plt.show()"
   ]
  },
  {
   "cell_type": "markdown",
   "metadata": {},
   "source": [
    "We use the library <a href=\"https://scikit-learn.org/stable/modules/generated/sklearn.preprocessing.MinMaxScaler.html\">MinMaxScaler</a> from scikit-learn in order to scale our data and retrain our ridge regression model such that all attributes have values centered around 0 with a standard deviation of 1.\n",
    "<br>\n",
    "Now, we can observe that the range of values had quite a consequent impact on the values of the weights."
   ]
  },
  {
   "cell_type": "code",
   "execution_count": 19,
   "metadata": {
    "ExecuteTime": {
     "end_time": "2019-11-20T21:20:37.200032Z",
     "start_time": "2019-11-20T21:20:10.642367Z"
    }
   },
   "outputs": [
    {
     "name": "stdout",
     "output_type": "stream",
     "text": [
      "Best alpha for the scaled athletic data is  0.1\n",
      "Column:  \u001b[1m acceleration \u001b[0m with range: 0.0 - 1.0 and coefficient 0.005884324562724396\n",
      "Column:  \u001b[1m sprint_speed \u001b[0m with range: 0.0 - 1.0 and coefficient 0.027396120628545566\n",
      "Column:  \u001b[1m agility \u001b[0m with range: 0.0 - 1.0 and coefficient 0.08183038883595332\n",
      "Column:  \u001b[1m reactions \u001b[0m with range: 0.0 - 1.0 and coefficient 0.9447146879328917\n",
      "Column:  \u001b[1m balance \u001b[0m with range: 0.0 - 1.0 and coefficient -0.055124172062012505\n",
      "Column:  \u001b[1m jumping \u001b[0m with range: 0.0 - 1.0 and coefficient 0.00988723990097848\n",
      "Column:  \u001b[1m stamina \u001b[0m with range: 0.0 - 1.0 and coefficient -0.013227438461555248\n",
      "Column:  \u001b[1m strength \u001b[0m with range: 0.0 - 1.0 and coefficient 0.11828379594611962\n"
     ]
    }
   ],
   "source": [
    "# Scaling the data\n",
    "scaler = MinMaxScaler()\n",
    "athletic_df = pd.DataFrame(scaler.fit_transform(athletic_df))\n",
    "athletic_df.columns = columns\n",
    "\n",
    "X_train, X_test, y_train, y_test = train_test_split(athletic_df.drop(['overall'], axis=1), \n",
    "                                                    athletic_df['overall'], \n",
    "                                                    test_size=0.30, \n",
    "                                                    random_state=1)\n",
    "\n",
    "\n",
    "# Finding the best alpha\n",
    "alpha_range = np.arange(0.1, 2000, 0.1)\n",
    "\n",
    "ridge_cv = RidgeCV(alphas=alpha_range, store_cv_values=True)\n",
    "ridge_cv.fit(X_train, y_train)\n",
    "scores = np.average(ridge_cv.cv_values_,axis=0)\n",
    "best_alpha_a4 = ridge_cv.alpha_\n",
    "\n",
    "print('Best alpha for the scaled athletic data is ', best_alpha_a4)\n",
    "\n",
    "\n",
    "# Retraining the model\n",
    "ridge = Ridge(alpha=best_alpha_a4)\n",
    "ridge.fit(X_train, y_train) \n",
    "ridge_coeff_scaled = ridge.coef_\n",
    "\n",
    "# Printing the range and coefficients of the model for each attributes\n",
    "for j in range(len(athletic_df.columns)-1):\n",
    "    i=j+1\n",
    "    coef = ridge_coeff_scaled[j]\n",
    "    col = athletic_df.columns[i]\n",
    "    mini = min(athletic_df[col])\n",
    "    maxi = max(athletic_df[col])\n",
    "    print(\"Column: \",'\\033[1m', col, '\\033[0m', 'with range:', round(mini, 3), '-', round(maxi, 3), 'and coefficient', coef )"
   ]
  },
  {
   "cell_type": "markdown",
   "metadata": {},
   "source": [
    "### A4.2.\n",
    "* After the *fix* in step A4.1., is everything fine now with the weights? Sort the weights in descending order. Do you observe anything unexpected with the lowest-ranked weights?\n",
    "* Do you have an idea what could be the potential cause for this? (No need to analytically prove your hypothesis.)\n",
    "* Come up with a better way to gauge the importance of a feature for the overall performance."
   ]
  },
  {
   "cell_type": "markdown",
   "metadata": {},
   "source": [
    "The order of magnitude of the coefficients of some attributes have significantly changed. The columns **strength** and **agility** have now some of the largest weights, while **jumping** is one of the smallest.\n",
    "Let's sort them from highest (top) to lowest (bottom) weights:"
   ]
  },
  {
   "cell_type": "code",
   "execution_count": 20,
   "metadata": {
    "ExecuteTime": {
     "end_time": "2019-11-20T21:20:37.231841Z",
     "start_time": "2019-11-20T21:20:37.206110Z"
    }
   },
   "outputs": [
    {
     "data": {
      "text/html": [
       "<table style=\"display:inline\" border=\"1\" class=\"dataframe\">\n",
       "  <thead>\n",
       "    <tr style=\"text-align: right;\">\n",
       "      <th></th>\n",
       "      <th>Before scaling</th>\n",
       "    </tr>\n",
       "  </thead>\n",
       "  <tbody>\n",
       "    <tr>\n",
       "      <th>reactions</th>\n",
       "      <td>0.605132</td>\n",
       "    </tr>\n",
       "    <tr>\n",
       "      <th>jumping</th>\n",
       "      <td>0.434945</td>\n",
       "    </tr>\n",
       "    <tr>\n",
       "      <th>strength</th>\n",
       "      <td>0.071427</td>\n",
       "    </tr>\n",
       "    <tr>\n",
       "      <th>agility</th>\n",
       "      <td>0.047910</td>\n",
       "    </tr>\n",
       "    <tr>\n",
       "      <th>sprint_speed</th>\n",
       "      <td>0.015757</td>\n",
       "    </tr>\n",
       "    <tr>\n",
       "      <th>acceleration</th>\n",
       "      <td>0.003276</td>\n",
       "    </tr>\n",
       "    <tr>\n",
       "      <th>stamina</th>\n",
       "      <td>-0.007503</td>\n",
       "    </tr>\n",
       "    <tr>\n",
       "      <th>balance</th>\n",
       "      <td>-0.032795</td>\n",
       "    </tr>\n",
       "  </tbody>\n",
       "</table style=\"display:inline\"><table style=\"display:inline\" border=\"1\" class=\"dataframe\">\n",
       "  <thead>\n",
       "    <tr style=\"text-align: right;\">\n",
       "      <th></th>\n",
       "      <th>After scaling</th>\n",
       "    </tr>\n",
       "  </thead>\n",
       "  <tbody>\n",
       "    <tr>\n",
       "      <th>reactions</th>\n",
       "      <td>0.944715</td>\n",
       "    </tr>\n",
       "    <tr>\n",
       "      <th>strength</th>\n",
       "      <td>0.118284</td>\n",
       "    </tr>\n",
       "    <tr>\n",
       "      <th>agility</th>\n",
       "      <td>0.081830</td>\n",
       "    </tr>\n",
       "    <tr>\n",
       "      <th>sprint_speed</th>\n",
       "      <td>0.027396</td>\n",
       "    </tr>\n",
       "    <tr>\n",
       "      <th>jumping</th>\n",
       "      <td>0.009887</td>\n",
       "    </tr>\n",
       "    <tr>\n",
       "      <th>acceleration</th>\n",
       "      <td>0.005884</td>\n",
       "    </tr>\n",
       "    <tr>\n",
       "      <th>stamina</th>\n",
       "      <td>-0.013227</td>\n",
       "    </tr>\n",
       "    <tr>\n",
       "      <th>balance</th>\n",
       "      <td>-0.055124</td>\n",
       "    </tr>\n",
       "  </tbody>\n",
       "</table style=\"display:inline\">"
      ]
     },
     "metadata": {},
     "output_type": "display_data"
    }
   ],
   "source": [
    "# Creating a dataframe with the old and new weights\n",
    "weights = pd.DataFrame([ridge_coeff, ridge_coeff_scaled], columns = columns[1:]).transpose()\n",
    "weights.columns = ['Before scaling','After scaling']\n",
    "\n",
    "from IPython.display import display_html\n",
    "def display_side_by_side(*args):\n",
    "    html_str=''\n",
    "    for df in args:\n",
    "        html_str+=df.to_html()\n",
    "    display_html(html_str.replace('table','table style=\"display:inline\"'),raw=True)\n",
    "    \n",
    "display_side_by_side(weights[['Before scaling']].sort_values('Before scaling', ascending=False), \n",
    "                     weights[['After scaling']].sort_values('After scaling', ascending=False))"
   ]
  },
  {
   "cell_type": "markdown",
   "metadata": {},
   "source": [
    "We can observe that **jumping** went down three places, while the other attributes kept the same ranking. Scaling all attributes to place them on the same order of magnitude and not generate arbitrarily high weights to compensate the difference in orders solved the problem. We have now a more realistic idea of how each attributes influences the algorithm's decision. <br>\n",
    "However, we can see that just sorting them from highest to lowest values is not enough. Indeed, we can notice that **balance** and **stamina**, which are quite important characteristics in assessing the global performances of a player, have negative coefficients and are placed last. <br>\n",
    "Having negative coefficients is quite a surprise, because you would think that having more balance, or more stamina could only be beneficial to the performance of a player. However, it could be that there are not enough features for the model to use all the data in a way that makes sense to us, and decided to use some of the features to tweak the approximation closer to the real function. Those features don't have a physical meaning, but rather an approximation mean for the algorithm to get to the optimal function. A way to correct that would be to force weights to always be positive through a regularisation term that would make the error skyrocket if any weights are negatives, or to insert more random data, and see if the algorithm uses this noise to approximate the function rather than features supposed to be meaningful\n",
    "<br>\n",
    "Another simpler reason for this might be that we are looking at the values of the coefficients rather than their absolute value. It could be that the way **stamina** and **balance** are computed returns values inversely proportional to the way performance is computed. <br>\n",
    "Trying to account for the absolute value only, we obtain the following tables:"
   ]
  },
  {
   "cell_type": "code",
   "execution_count": 21,
   "metadata": {
    "ExecuteTime": {
     "end_time": "2019-11-20T21:20:37.254114Z",
     "start_time": "2019-11-20T21:20:37.236987Z"
    }
   },
   "outputs": [
    {
     "data": {
      "text/html": [
       "<table style=\"display:inline\" border=\"1\" class=\"dataframe\">\n",
       "  <thead>\n",
       "    <tr style=\"text-align: right;\">\n",
       "      <th></th>\n",
       "      <th>Before scaling</th>\n",
       "    </tr>\n",
       "  </thead>\n",
       "  <tbody>\n",
       "    <tr>\n",
       "      <th>reactions</th>\n",
       "      <td>0.605132</td>\n",
       "    </tr>\n",
       "    <tr>\n",
       "      <th>jumping</th>\n",
       "      <td>0.434945</td>\n",
       "    </tr>\n",
       "    <tr>\n",
       "      <th>strength</th>\n",
       "      <td>0.071427</td>\n",
       "    </tr>\n",
       "    <tr>\n",
       "      <th>agility</th>\n",
       "      <td>0.047910</td>\n",
       "    </tr>\n",
       "    <tr>\n",
       "      <th>balance</th>\n",
       "      <td>-0.032795</td>\n",
       "    </tr>\n",
       "    <tr>\n",
       "      <th>sprint_speed</th>\n",
       "      <td>0.015757</td>\n",
       "    </tr>\n",
       "    <tr>\n",
       "      <th>stamina</th>\n",
       "      <td>-0.007503</td>\n",
       "    </tr>\n",
       "    <tr>\n",
       "      <th>acceleration</th>\n",
       "      <td>0.003276</td>\n",
       "    </tr>\n",
       "  </tbody>\n",
       "</table style=\"display:inline\"><table style=\"display:inline\" border=\"1\" class=\"dataframe\">\n",
       "  <thead>\n",
       "    <tr style=\"text-align: right;\">\n",
       "      <th></th>\n",
       "      <th>After scaling</th>\n",
       "    </tr>\n",
       "  </thead>\n",
       "  <tbody>\n",
       "    <tr>\n",
       "      <th>reactions</th>\n",
       "      <td>0.944715</td>\n",
       "    </tr>\n",
       "    <tr>\n",
       "      <th>strength</th>\n",
       "      <td>0.118284</td>\n",
       "    </tr>\n",
       "    <tr>\n",
       "      <th>agility</th>\n",
       "      <td>0.081830</td>\n",
       "    </tr>\n",
       "    <tr>\n",
       "      <th>balance</th>\n",
       "      <td>-0.055124</td>\n",
       "    </tr>\n",
       "    <tr>\n",
       "      <th>sprint_speed</th>\n",
       "      <td>0.027396</td>\n",
       "    </tr>\n",
       "    <tr>\n",
       "      <th>stamina</th>\n",
       "      <td>-0.013227</td>\n",
       "    </tr>\n",
       "    <tr>\n",
       "      <th>jumping</th>\n",
       "      <td>0.009887</td>\n",
       "    </tr>\n",
       "    <tr>\n",
       "      <th>acceleration</th>\n",
       "      <td>0.005884</td>\n",
       "    </tr>\n",
       "  </tbody>\n",
       "</table style=\"display:inline\">"
      ]
     },
     "metadata": {},
     "output_type": "display_data"
    }
   ],
   "source": [
    "display_side_by_side(weights.iloc[(-weights['Before scaling'].abs()).argsort()][['Before scaling']],\n",
    "                     weights.iloc[(-weights['After scaling'].abs()).argsort()][['After scaling']])"
   ]
  },
  {
   "cell_type": "markdown",
   "metadata": {},
   "source": [
    "Now, this ranking makes much sense. A player's stamina should count more than their ability to jump around. And their balance to master the ball should also be placed a bit higher than last place."
   ]
  },
  {
   "cell_type": "markdown",
   "metadata": {},
   "source": [
    "## A5. Model Improvements\n",
    "\n",
    "During the ongoing recruiting process, it turns out that attending all the ADA lectures and tutorials has paid off: Solving the ADA homework went like a charm and you are already done with it. Now you wonder whether it is worth going to some football games of the candidates to assess their football-related skills explicitly, and include these skills in training your ML model.\n",
    "\n",
    "### A5.1. Improving the model\n",
    "Train a second model, this time also including as features the football-related skills from the list in the step **A2**. Again use cross validation to compute the best hyperparameter in the range [0,2000].\n",
    "\n",
    "<br>\n",
    "<br>\n",
    "Before diving into the analysis, we first preprocess some of the columns that hadn't be looked over in the previous phases. More specifically, we one hot encoded the attributed **Work Rate** in order to deal with the categorical textual data. We also fill in any NA values that would have occured in Sprint Speed.\n",
    "<br>\n",
    "We reload the data in order to compute the bootstrap sampling both on the scaled and non scaled data."
   ]
  },
  {
   "cell_type": "code",
   "execution_count": 22,
   "metadata": {
    "ExecuteTime": {
     "end_time": "2019-11-20T21:20:38.211953Z",
     "start_time": "2019-11-20T21:20:37.259749Z"
    },
    "scrolled": true
   },
   "outputs": [
    {
     "data": {
      "text/html": [
       "<div>\n",
       "<style scoped>\n",
       "    .dataframe tbody tr th:only-of-type {\n",
       "        vertical-align: middle;\n",
       "    }\n",
       "\n",
       "    .dataframe tbody tr th {\n",
       "        vertical-align: top;\n",
       "    }\n",
       "\n",
       "    .dataframe thead th {\n",
       "        text-align: right;\n",
       "    }\n",
       "</style>\n",
       "<table border=\"1\" class=\"dataframe\">\n",
       "  <thead>\n",
       "    <tr style=\"text-align: right;\">\n",
       "      <th></th>\n",
       "      <th>Overall</th>\n",
       "      <th>Weak Foot</th>\n",
       "      <th>Skill Moves</th>\n",
       "      <th>Crossing</th>\n",
       "      <th>Finishing</th>\n",
       "      <th>HeadingAccuracy</th>\n",
       "      <th>ShortPassing</th>\n",
       "      <th>Volleys</th>\n",
       "      <th>Dribbling</th>\n",
       "      <th>Curve</th>\n",
       "      <th>...</th>\n",
       "      <th>Defense Effort</th>\n",
       "      <th>Work Rate_High/ High</th>\n",
       "      <th>Work Rate_High/ Low</th>\n",
       "      <th>Work Rate_High/ Medium</th>\n",
       "      <th>Work Rate_Low/ High</th>\n",
       "      <th>Work Rate_Low/ Low</th>\n",
       "      <th>Work Rate_Low/ Medium</th>\n",
       "      <th>Work Rate_Medium/ High</th>\n",
       "      <th>Work Rate_Medium/ Low</th>\n",
       "      <th>Work Rate_Medium/ Medium</th>\n",
       "    </tr>\n",
       "  </thead>\n",
       "  <tbody>\n",
       "    <tr>\n",
       "      <td>0</td>\n",
       "      <td>94</td>\n",
       "      <td>4.0</td>\n",
       "      <td>4.0</td>\n",
       "      <td>84.0</td>\n",
       "      <td>95.0</td>\n",
       "      <td>70.0</td>\n",
       "      <td>90.0</td>\n",
       "      <td>86.0</td>\n",
       "      <td>97.0</td>\n",
       "      <td>93.0</td>\n",
       "      <td>...</td>\n",
       "      <td>1</td>\n",
       "      <td>0</td>\n",
       "      <td>0</td>\n",
       "      <td>0</td>\n",
       "      <td>0</td>\n",
       "      <td>0</td>\n",
       "      <td>0</td>\n",
       "      <td>0</td>\n",
       "      <td>0</td>\n",
       "      <td>1</td>\n",
       "    </tr>\n",
       "    <tr>\n",
       "      <td>1</td>\n",
       "      <td>94</td>\n",
       "      <td>4.0</td>\n",
       "      <td>5.0</td>\n",
       "      <td>84.0</td>\n",
       "      <td>94.0</td>\n",
       "      <td>89.0</td>\n",
       "      <td>81.0</td>\n",
       "      <td>87.0</td>\n",
       "      <td>88.0</td>\n",
       "      <td>81.0</td>\n",
       "      <td>...</td>\n",
       "      <td>0</td>\n",
       "      <td>0</td>\n",
       "      <td>1</td>\n",
       "      <td>0</td>\n",
       "      <td>0</td>\n",
       "      <td>0</td>\n",
       "      <td>0</td>\n",
       "      <td>0</td>\n",
       "      <td>0</td>\n",
       "      <td>0</td>\n",
       "    </tr>\n",
       "    <tr>\n",
       "      <td>2</td>\n",
       "      <td>92</td>\n",
       "      <td>5.0</td>\n",
       "      <td>5.0</td>\n",
       "      <td>79.0</td>\n",
       "      <td>87.0</td>\n",
       "      <td>62.0</td>\n",
       "      <td>84.0</td>\n",
       "      <td>84.0</td>\n",
       "      <td>96.0</td>\n",
       "      <td>88.0</td>\n",
       "      <td>...</td>\n",
       "      <td>1</td>\n",
       "      <td>0</td>\n",
       "      <td>0</td>\n",
       "      <td>1</td>\n",
       "      <td>0</td>\n",
       "      <td>0</td>\n",
       "      <td>0</td>\n",
       "      <td>0</td>\n",
       "      <td>0</td>\n",
       "      <td>0</td>\n",
       "    </tr>\n",
       "    <tr>\n",
       "      <td>3</td>\n",
       "      <td>91</td>\n",
       "      <td>3.0</td>\n",
       "      <td>1.0</td>\n",
       "      <td>17.0</td>\n",
       "      <td>13.0</td>\n",
       "      <td>21.0</td>\n",
       "      <td>50.0</td>\n",
       "      <td>13.0</td>\n",
       "      <td>18.0</td>\n",
       "      <td>21.0</td>\n",
       "      <td>...</td>\n",
       "      <td>1</td>\n",
       "      <td>0</td>\n",
       "      <td>0</td>\n",
       "      <td>0</td>\n",
       "      <td>0</td>\n",
       "      <td>0</td>\n",
       "      <td>0</td>\n",
       "      <td>0</td>\n",
       "      <td>0</td>\n",
       "      <td>1</td>\n",
       "    </tr>\n",
       "    <tr>\n",
       "      <td>4</td>\n",
       "      <td>91</td>\n",
       "      <td>5.0</td>\n",
       "      <td>4.0</td>\n",
       "      <td>93.0</td>\n",
       "      <td>82.0</td>\n",
       "      <td>55.0</td>\n",
       "      <td>92.0</td>\n",
       "      <td>82.0</td>\n",
       "      <td>86.0</td>\n",
       "      <td>85.0</td>\n",
       "      <td>...</td>\n",
       "      <td>2</td>\n",
       "      <td>1</td>\n",
       "      <td>0</td>\n",
       "      <td>0</td>\n",
       "      <td>0</td>\n",
       "      <td>0</td>\n",
       "      <td>0</td>\n",
       "      <td>0</td>\n",
       "      <td>0</td>\n",
       "      <td>0</td>\n",
       "    </tr>\n",
       "  </tbody>\n",
       "</table>\n",
       "<p>5 rows × 48 columns</p>\n",
       "</div>"
      ],
      "text/plain": [
       "   Overall  Weak Foot  Skill Moves  Crossing  Finishing  HeadingAccuracy  \\\n",
       "0       94        4.0          4.0      84.0       95.0             70.0   \n",
       "1       94        4.0          5.0      84.0       94.0             89.0   \n",
       "2       92        5.0          5.0      79.0       87.0             62.0   \n",
       "3       91        3.0          1.0      17.0       13.0             21.0   \n",
       "4       91        5.0          4.0      93.0       82.0             55.0   \n",
       "\n",
       "   ShortPassing  Volleys  Dribbling  Curve  ...  Defense Effort  \\\n",
       "0          90.0     86.0       97.0   93.0  ...               1   \n",
       "1          81.0     87.0       88.0   81.0  ...               0   \n",
       "2          84.0     84.0       96.0   88.0  ...               1   \n",
       "3          50.0     13.0       18.0   21.0  ...               1   \n",
       "4          92.0     82.0       86.0   85.0  ...               2   \n",
       "\n",
       "   Work Rate_High/ High  Work Rate_High/ Low  Work Rate_High/ Medium  \\\n",
       "0                     0                    0                       0   \n",
       "1                     0                    1                       0   \n",
       "2                     0                    0                       1   \n",
       "3                     0                    0                       0   \n",
       "4                     1                    0                       0   \n",
       "\n",
       "   Work Rate_Low/ High  Work Rate_Low/ Low  Work Rate_Low/ Medium  \\\n",
       "0                    0                   0                      0   \n",
       "1                    0                   0                      0   \n",
       "2                    0                   0                      0   \n",
       "3                    0                   0                      0   \n",
       "4                    0                   0                      0   \n",
       "\n",
       "   Work Rate_Medium/ High  Work Rate_Medium/ Low  Work Rate_Medium/ Medium  \n",
       "0                       0                      0                         1  \n",
       "1                       0                      0                         0  \n",
       "2                       0                      0                         0  \n",
       "3                       0                      0                         1  \n",
       "4                       0                      0                         0  \n",
       "\n",
       "[5 rows x 48 columns]"
      ]
     },
     "metadata": {},
     "output_type": "display_data"
    },
    {
     "data": {
      "text/html": [
       "<div>\n",
       "<style scoped>\n",
       "    .dataframe tbody tr th:only-of-type {\n",
       "        vertical-align: middle;\n",
       "    }\n",
       "\n",
       "    .dataframe tbody tr th {\n",
       "        vertical-align: top;\n",
       "    }\n",
       "\n",
       "    .dataframe thead th {\n",
       "        text-align: right;\n",
       "    }\n",
       "</style>\n",
       "<table border=\"1\" class=\"dataframe\">\n",
       "  <thead>\n",
       "    <tr style=\"text-align: right;\">\n",
       "      <th></th>\n",
       "      <th>Overall</th>\n",
       "      <th>Weak Foot</th>\n",
       "      <th>Skill Moves</th>\n",
       "      <th>Crossing</th>\n",
       "      <th>Finishing</th>\n",
       "      <th>HeadingAccuracy</th>\n",
       "      <th>ShortPassing</th>\n",
       "      <th>Volleys</th>\n",
       "      <th>Dribbling</th>\n",
       "      <th>Curve</th>\n",
       "      <th>...</th>\n",
       "      <th>Defense Effort</th>\n",
       "      <th>Work Rate_High/ High</th>\n",
       "      <th>Work Rate_High/ Low</th>\n",
       "      <th>Work Rate_High/ Medium</th>\n",
       "      <th>Work Rate_Low/ High</th>\n",
       "      <th>Work Rate_Low/ Low</th>\n",
       "      <th>Work Rate_Low/ Medium</th>\n",
       "      <th>Work Rate_Medium/ High</th>\n",
       "      <th>Work Rate_Medium/ Low</th>\n",
       "      <th>Work Rate_Medium/ Medium</th>\n",
       "    </tr>\n",
       "  </thead>\n",
       "  <tbody>\n",
       "    <tr>\n",
       "      <td>0</td>\n",
       "      <td>1.000000</td>\n",
       "      <td>0.75</td>\n",
       "      <td>0.75</td>\n",
       "      <td>0.897727</td>\n",
       "      <td>1.000000</td>\n",
       "      <td>0.733333</td>\n",
       "      <td>0.965116</td>\n",
       "      <td>0.953488</td>\n",
       "      <td>1.000000</td>\n",
       "      <td>0.988636</td>\n",
       "      <td>...</td>\n",
       "      <td>0.5</td>\n",
       "      <td>0.0</td>\n",
       "      <td>0.0</td>\n",
       "      <td>0.0</td>\n",
       "      <td>0.0</td>\n",
       "      <td>0.0</td>\n",
       "      <td>0.0</td>\n",
       "      <td>0.0</td>\n",
       "      <td>0.0</td>\n",
       "      <td>1.0</td>\n",
       "    </tr>\n",
       "    <tr>\n",
       "      <td>1</td>\n",
       "      <td>1.000000</td>\n",
       "      <td>0.75</td>\n",
       "      <td>1.00</td>\n",
       "      <td>0.897727</td>\n",
       "      <td>0.989247</td>\n",
       "      <td>0.944444</td>\n",
       "      <td>0.860465</td>\n",
       "      <td>0.965116</td>\n",
       "      <td>0.903226</td>\n",
       "      <td>0.852273</td>\n",
       "      <td>...</td>\n",
       "      <td>0.0</td>\n",
       "      <td>0.0</td>\n",
       "      <td>1.0</td>\n",
       "      <td>0.0</td>\n",
       "      <td>0.0</td>\n",
       "      <td>0.0</td>\n",
       "      <td>0.0</td>\n",
       "      <td>0.0</td>\n",
       "      <td>0.0</td>\n",
       "      <td>0.0</td>\n",
       "    </tr>\n",
       "    <tr>\n",
       "      <td>2</td>\n",
       "      <td>0.958333</td>\n",
       "      <td>1.00</td>\n",
       "      <td>1.00</td>\n",
       "      <td>0.840909</td>\n",
       "      <td>0.913978</td>\n",
       "      <td>0.644444</td>\n",
       "      <td>0.895349</td>\n",
       "      <td>0.930233</td>\n",
       "      <td>0.989247</td>\n",
       "      <td>0.931818</td>\n",
       "      <td>...</td>\n",
       "      <td>0.5</td>\n",
       "      <td>0.0</td>\n",
       "      <td>0.0</td>\n",
       "      <td>1.0</td>\n",
       "      <td>0.0</td>\n",
       "      <td>0.0</td>\n",
       "      <td>0.0</td>\n",
       "      <td>0.0</td>\n",
       "      <td>0.0</td>\n",
       "      <td>0.0</td>\n",
       "    </tr>\n",
       "    <tr>\n",
       "      <td>3</td>\n",
       "      <td>0.937500</td>\n",
       "      <td>0.50</td>\n",
       "      <td>0.00</td>\n",
       "      <td>0.136364</td>\n",
       "      <td>0.118280</td>\n",
       "      <td>0.188889</td>\n",
       "      <td>0.500000</td>\n",
       "      <td>0.104651</td>\n",
       "      <td>0.150538</td>\n",
       "      <td>0.170455</td>\n",
       "      <td>...</td>\n",
       "      <td>0.5</td>\n",
       "      <td>0.0</td>\n",
       "      <td>0.0</td>\n",
       "      <td>0.0</td>\n",
       "      <td>0.0</td>\n",
       "      <td>0.0</td>\n",
       "      <td>0.0</td>\n",
       "      <td>0.0</td>\n",
       "      <td>0.0</td>\n",
       "      <td>1.0</td>\n",
       "    </tr>\n",
       "    <tr>\n",
       "      <td>4</td>\n",
       "      <td>0.937500</td>\n",
       "      <td>1.00</td>\n",
       "      <td>0.75</td>\n",
       "      <td>1.000000</td>\n",
       "      <td>0.860215</td>\n",
       "      <td>0.566667</td>\n",
       "      <td>0.988372</td>\n",
       "      <td>0.906977</td>\n",
       "      <td>0.881720</td>\n",
       "      <td>0.897727</td>\n",
       "      <td>...</td>\n",
       "      <td>1.0</td>\n",
       "      <td>1.0</td>\n",
       "      <td>0.0</td>\n",
       "      <td>0.0</td>\n",
       "      <td>0.0</td>\n",
       "      <td>0.0</td>\n",
       "      <td>0.0</td>\n",
       "      <td>0.0</td>\n",
       "      <td>0.0</td>\n",
       "      <td>0.0</td>\n",
       "    </tr>\n",
       "  </tbody>\n",
       "</table>\n",
       "<p>5 rows × 48 columns</p>\n",
       "</div>"
      ],
      "text/plain": [
       "    Overall  Weak Foot  Skill Moves  Crossing  Finishing  HeadingAccuracy  \\\n",
       "0  1.000000       0.75         0.75  0.897727   1.000000         0.733333   \n",
       "1  1.000000       0.75         1.00  0.897727   0.989247         0.944444   \n",
       "2  0.958333       1.00         1.00  0.840909   0.913978         0.644444   \n",
       "3  0.937500       0.50         0.00  0.136364   0.118280         0.188889   \n",
       "4  0.937500       1.00         0.75  1.000000   0.860215         0.566667   \n",
       "\n",
       "   ShortPassing   Volleys  Dribbling     Curve  ...  Defense Effort  \\\n",
       "0      0.965116  0.953488   1.000000  0.988636  ...             0.5   \n",
       "1      0.860465  0.965116   0.903226  0.852273  ...             0.0   \n",
       "2      0.895349  0.930233   0.989247  0.931818  ...             0.5   \n",
       "3      0.500000  0.104651   0.150538  0.170455  ...             0.5   \n",
       "4      0.988372  0.906977   0.881720  0.897727  ...             1.0   \n",
       "\n",
       "   Work Rate_High/ High  Work Rate_High/ Low  Work Rate_High/ Medium  \\\n",
       "0                   0.0                  0.0                     0.0   \n",
       "1                   0.0                  1.0                     0.0   \n",
       "2                   0.0                  0.0                     1.0   \n",
       "3                   0.0                  0.0                     0.0   \n",
       "4                   1.0                  0.0                     0.0   \n",
       "\n",
       "   Work Rate_Low/ High  Work Rate_Low/ Low  Work Rate_Low/ Medium  \\\n",
       "0                  0.0                 0.0                    0.0   \n",
       "1                  0.0                 0.0                    0.0   \n",
       "2                  0.0                 0.0                    0.0   \n",
       "3                  0.0                 0.0                    0.0   \n",
       "4                  0.0                 0.0                    0.0   \n",
       "\n",
       "   Work Rate_Medium/ High  Work Rate_Medium/ Low  Work Rate_Medium/ Medium  \n",
       "0                     0.0                    0.0                       1.0  \n",
       "1                     0.0                    0.0                       0.0  \n",
       "2                     0.0                    0.0                       0.0  \n",
       "3                     0.0                    0.0                       1.0  \n",
       "4                     0.0                    0.0                       0.0  \n",
       "\n",
       "[5 rows x 48 columns]"
      ]
     },
     "metadata": {},
     "output_type": "display_data"
    }
   ],
   "source": [
    "skills = ['Overall', 'Weak Foot', 'Skill Moves', 'Work Rate', 'Crossing',\n",
    "       'Finishing', 'HeadingAccuracy', 'ShortPassing', 'Volleys', 'Dribbling',\n",
    "       'Curve', 'FKAccuracy', 'LongPassing', 'BallControl', 'Acceleration',\n",
    "       'SprintSpeed', 'Agility', 'Reactions', 'Balance', 'ShotPower',\n",
    "       'Jumping', 'Stamina', 'Strength', 'LongShots', 'Aggression',\n",
    "       'Interceptions', 'Positioning', 'Vision', 'Penalties', 'Composure',\n",
    "       'Marking', 'StandingTackle', 'SlidingTackle', 'GKDiving', 'GKHandling',\n",
    "       'GKKicking', 'GKPositioning', 'GKReflexes']\n",
    "\n",
    "fifa19_df = pd.read_csv('data/fifa19_players.csv', delimiter=',')\n",
    "\n",
    "# discard features\n",
    "fifa19_df = fifa19_df[skills]\n",
    "\n",
    "# transform 'Work Rate' into two *numerical* features ( .str.split is more efficient than .apply )\n",
    "# (each feature can take one of three values, 'Low', 'Medium', or 'High')\n",
    "fifa19_df[['Attack Effort', 'Defense Effort']] = fifa19_df['Work Rate'].str.split(\"/ \", expand=True)\n",
    "fifa19_df['Attack Effort'] = fifa19_df['Attack Effort'].map({'Low': 0, 'Medium': 1, 'High': 2})\n",
    "fifa19_df['Defense Effort'] = fifa19_df['Defense Effort'].map({'Low': 0, 'Medium': 1, 'High': 2})\n",
    "\n",
    "# One hot encoding textual/categorical data (in work rate)\n",
    "fifa19_df['SprintSpeed'].fillna(value=fifa19_df['SprintSpeed'].median(), inplace=True)\n",
    "fifa19_df = pd.get_dummies(fifa19_df,prefix=['Work Rate'])\n",
    "columns = fifa19_df.columns\n",
    "\n",
    "scaler = MinMaxScaler()\n",
    "fifa19_df_scaled = pd.DataFrame(scaler.fit_transform(fifa19_df))\n",
    "fifa19_df_scaled.columns = columns\n",
    "\n",
    "display(fifa19_df.head())\n",
    "display(fifa19_df_scaled.head())"
   ]
  },
  {
   "cell_type": "code",
   "execution_count": 23,
   "metadata": {
    "ExecuteTime": {
     "end_time": "2019-11-20T21:20:38.254275Z",
     "start_time": "2019-11-20T21:20:38.232938Z"
    }
   },
   "outputs": [],
   "source": [
    "with open('./data/athletic_df.pickle', 'rb') as fp:\n",
    "    athletic_df = pickle.load(fp)\n",
    "columns = [\n",
    "    'overall', 'acceleration', 'sprint_speed', 'agility', 'reactions', \n",
    "    'balance', 'jumping', 'stamina', 'strength'\n",
    "]\n",
    "athletic_df.columns = columns\n",
    "\n",
    "scaler = MinMaxScaler()\n",
    "athletic_df_scaled = pd.DataFrame(scaler.fit_transform(athletic_df))\n",
    "athletic_df_scaled.columns = columns\n"
   ]
  },
  {
   "cell_type": "code",
   "execution_count": 24,
   "metadata": {
    "ExecuteTime": {
     "end_time": "2019-11-20T21:22:12.480080Z",
     "start_time": "2019-11-20T21:20:38.259834Z"
    }
   },
   "outputs": [],
   "source": [
    "# Finding the best alpha for the scaled fifa19_df data\n",
    "alpha_range = np.arange(0.1, 2000, 0.1)\n",
    "\n",
    "X_train, X_test, y_train, y_test = train_test_split(fifa19_df_scaled.drop(['Overall'], axis=1), \n",
    "                                                    fifa19_df_scaled['Overall'], \n",
    "                                                    test_size=0.30, \n",
    "                                                    random_state=1)\n",
    "\n",
    "ridge_cv = RidgeCV(alphas=alpha_range, store_cv_values=True)\n",
    "ridge_cv.fit(X_train, y_train)\n",
    "scores = np.average(ridge_cv.cv_values_,axis=0)\n",
    "best_alpha_scaled_a5 = ridge_cv.alpha_"
   ]
  },
  {
   "cell_type": "code",
   "execution_count": 25,
   "metadata": {
    "ExecuteTime": {
     "end_time": "2019-11-20T21:22:13.091035Z",
     "start_time": "2019-11-20T21:22:12.486869Z"
    },
    "scrolled": true
   },
   "outputs": [
    {
     "name": "stdout",
     "output_type": "stream",
     "text": [
      "The best value for alpha for the ridge model on the scaled fifa data is 0.6\n"
     ]
    },
    {
     "data": {
      "image/png": "[encoded data removed]",
      "text/plain": [
       "<Figure size 1152x288 with 2 Axes>"
      ]
     },
     "metadata": {
      "needs_background": "light"
     },
     "output_type": "display_data"
    }
   ],
   "source": [
    "# plot the CV error as a function of alpha\n",
    "f, (ax1, ax2) = plt.subplots(1, 2, figsize=(16,4), gridspec_kw = {'width_ratios':[5, 2]})\n",
    "\n",
    "ax1.plot(alpha_range, scores)\n",
    "ax1.set_title('The cross validation error as a function of alpha')\n",
    "ax1.set_xlabel('Value of alpha (the regularization parameter)')\n",
    "ax1.set_ylabel('The cross validation error')\n",
    "\n",
    "\n",
    "ax2.plot(alpha_range[:250], scores[:250])\n",
    "ax2.set_title('A zoom-in on the first values of alpha', y=1.08)\n",
    "ax2.set_xlabel('First 250 values of alpha')\n",
    "ax2.set_ylabel('The cross validation error')\n",
    "ax2.tick_params( top='off')\n",
    "\n",
    "print(\"The best value for alpha for the ridge model on the scaled fifa data is\", best_alpha_scaled_a5)"
   ]
  },
  {
   "cell_type": "code",
   "execution_count": 26,
   "metadata": {
    "ExecuteTime": {
     "end_time": "2019-11-20T21:23:59.251579Z",
     "start_time": "2019-11-20T21:22:13.095394Z"
    }
   },
   "outputs": [],
   "source": [
    "# Finding the best alpha for the non scaled fifa19_df data\n",
    "alpha_range = np.arange(0.1, 2000, 0.1)\n",
    "    \n",
    "X_train, X_test, y_train, y_test = train_test_split(fifa19_df.drop(['Overall'], axis=1), \n",
    "                                                    fifa19_df['Overall'], \n",
    "                                                    test_size=0.30, \n",
    "                                                    random_state=1)\n",
    "ridge_cv = RidgeCV(alphas=alpha_range, store_cv_values=True)\n",
    "ridge_cv.fit(X_train, y_train)\n",
    "scores = np.average(ridge_cv.cv_values_,axis=0)\n",
    "best_alpha_ns_a5 = ridge_cv.alpha_"
   ]
  },
  {
   "cell_type": "code",
   "execution_count": 27,
   "metadata": {
    "ExecuteTime": {
     "end_time": "2019-11-20T21:24:00.065939Z",
     "start_time": "2019-11-20T21:23:59.271649Z"
    }
   },
   "outputs": [
    {
     "name": "stdout",
     "output_type": "stream",
     "text": [
      "The best value for alpha for the ridge model on the scaled fifa data is 6.1\n"
     ]
    },
    {
     "data": {
      "image/png": "[encoded data removed]",
      "text/plain": [
       "<Figure size 1152x288 with 2 Axes>"
      ]
     },
     "metadata": {
      "needs_background": "light"
     },
     "output_type": "display_data"
    }
   ],
   "source": [
    "# plot the CV error as a function of alpha\n",
    "f, (ax1, ax2) = plt.subplots(1, 2, figsize=(16,4), gridspec_kw = {'width_ratios':[5, 2]})\n",
    "\n",
    "ax1.plot(alpha_range, scores)\n",
    "ax1.set_title('The cross validation error as a function of alpha')\n",
    "ax1.set_xlabel('Value of alpha (the regularization parameter)')\n",
    "ax1.set_ylabel('The cross validation error')\n",
    "\n",
    "\n",
    "ax2.plot(alpha_range[:250], scores[:250])\n",
    "ax2.set_title('A zoom-in on the first values of alpha')\n",
    "ax2.set_xlabel('First 250 values of alpha')\n",
    "ax2.set_ylabel('The cross validation error')\n",
    "ax2.tick_params( top='off')\n",
    "\n",
    "print(\"The best value for alpha for the ridge model on the scaled fifa data is\", best_alpha_ns_a5)"
   ]
  },
  {
   "cell_type": "markdown",
   "metadata": {},
   "source": [
    "### A5.2. Assessing the improvement\n",
    "Compute *bootstrap confidence intervals* for the mean squared error that the two models (trained in the steps **A3** and **A5.1**) make. Retrain both models *1000 times*, each time with a different random train/test split, and compute the respective mean squared errors.   \n",
    "*Note: Use the 'optimal regularization parameters' already found via cross validation in steps **A4.1** and **A5.1**.*\n",
    "\n",
    "* Find the *two-sided 95% confidence intervals* via bootstrap resampling and plot the mean error together with the confidence interval in a bar plot.\n",
    "* What can you say about the properties of the models based on the confidence intervals?\n",
    "* Do you have sufficient evidence to claim that one model is clearly better than the other? Clearly explain your observations!\n",
    "\n",
    "<br>\n",
    "<br>\n",
    "This time, we will definitely scale our attributes to avoid any funny surprises from the weights. We use a value of $alpha$ of 4.8 for the first model with only the attributes presented in A5, and a value of $alpha$ of 11.1 for the second model with the attributes listed in A3.\n",
    "<br>\n",
    "In order to compute the bootstrap statistics, we run the model on a 1000 random samples and collect the mean square error. Each of those sample has the same size of the original data, in order to have enough data to retrieve meaningful statistics, and may contains several time the same data point."
   ]
  },
  {
   "cell_type": "code",
   "execution_count": 28,
   "metadata": {
    "ExecuteTime": {
     "end_time": "2019-11-20T21:24:43.861439Z",
     "start_time": "2019-11-20T21:24:00.070084Z"
    }
   },
   "outputs": [],
   "source": [
    "# Rerunning the model with the data from A3 a thousand times.\n",
    "bootstrap_scores_A3 = []\n",
    "for i in range(1000):\n",
    "    indices_sample = np.random.choice(list(range(len(athletic_df))), \n",
    "                                      len(athletic_df), replace=True)\n",
    "    athletic_sample = athletic_df.iloc[indices_sample]\n",
    "    \n",
    "    X_train, X_test, y_train, y_test = train_test_split(athletic_sample.drop(['overall'], axis=1), \n",
    "                                                    athletic_sample['overall'], \n",
    "                                                    test_size=0.30, \n",
    "                                                    random_state=1)\n",
    "    \n",
    "    \n",
    "    ridge = Ridge(alpha=best_alpha_a3)\n",
    "    ridge.fit(X_train, y_train) \n",
    "    \n",
    "    cv_scores = cross_val_score(ridge, X_test, y_test, cv=5, scoring='neg_mean_squared_error')\n",
    "    bootstrap_scores_A3.append(-1*np.average(cv_scores))\n",
    "with open('./data/bootstrap_scores_A3nonscaled.pkl', 'wb') as fp:\n",
    "    pickle.dump(bootstrap_scores_A3, fp)\n"
   ]
  },
  {
   "cell_type": "code",
   "execution_count": 29,
   "metadata": {
    "ExecuteTime": {
     "end_time": "2019-11-20T21:24:43.976545Z",
     "start_time": "2019-11-20T21:24:43.868275Z"
    }
   },
   "outputs": [],
   "source": [
    "X_train, X_test, y_train, y_test = train_test_split(athletic_df.drop(['overall'], axis=1), \n",
    "                                                    athletic_df['overall'], \n",
    "                                                    test_size=0.30, \n",
    "                                                    random_state=1)\n",
    "    \n",
    "    \n",
    "ridge = Ridge(alpha=best_alpha_a3)\n",
    "ridge.fit(X_train, y_train) \n",
    "\n",
    "A3 = -1 * cross_val_score(ridge, X_test, y_test, cv=5, scoring='neg_mean_squared_error')"
   ]
  },
  {
   "cell_type": "code",
   "execution_count": 30,
   "metadata": {
    "ExecuteTime": {
     "end_time": "2019-11-20T21:25:21.341896Z",
     "start_time": "2019-11-20T21:24:43.986007Z"
    }
   },
   "outputs": [],
   "source": [
    "# Rerunning the model with the data from A3 a thousand times.\n",
    "bootstrap_scores_A3_scaled = []\n",
    "for i in range(1000):\n",
    "    indices_sample = np.random.choice(list(range(len(athletic_df_scaled))), \n",
    "                                      len(athletic_df_scaled), replace=True)\n",
    "    athletic_sample = athletic_df_scaled.iloc[indices_sample]\n",
    "    \n",
    "    X_train, X_test, y_train, y_test = train_test_split(athletic_sample.drop(['overall'], axis=1), \n",
    "                                                    athletic_sample['overall'], \n",
    "                                                    test_size=0.30, \n",
    "                                                    random_state=1)\n",
    "    \n",
    "    \n",
    "    ridge = Ridge(alpha=best_alpha_a4)\n",
    "    ridge.fit(X_train, y_train) \n",
    "    \n",
    "    cv_scores = cross_val_score(ridge, X_test, y_test, cv=5, scoring='neg_mean_squared_error')\n",
    "    bootstrap_scores_A3_scaled.append(-1*np.average(cv_scores))\n",
    "with open('./data/bootstrap_scores_A3_scaled.pkl', 'wb') as fp:\n",
    "    pickle.dump(bootstrap_scores_A3_scaled, fp)\n"
   ]
  },
  {
   "cell_type": "code",
   "execution_count": 31,
   "metadata": {
    "ExecuteTime": {
     "end_time": "2019-11-20T21:25:21.430360Z",
     "start_time": "2019-11-20T21:25:21.344204Z"
    }
   },
   "outputs": [],
   "source": [
    "X_train, X_test, y_train, y_test = train_test_split(athletic_df_scaled.drop(['overall'], axis=1), \n",
    "                                                    athletic_df_scaled['overall'], \n",
    "                                                    test_size=0.30, \n",
    "                                                    random_state=1)\n",
    "    \n",
    "    \n",
    "ridge = Ridge(alpha=best_alpha_a4)\n",
    "ridge.fit(X_train, y_train) \n",
    "\n",
    "A3_scaled = -1 * cross_val_score(ridge, X_test, y_test, cv=5, scoring='neg_mean_squared_error')"
   ]
  },
  {
   "cell_type": "code",
   "execution_count": 32,
   "metadata": {
    "ExecuteTime": {
     "end_time": "2019-11-20T21:26:48.574026Z",
     "start_time": "2019-11-20T21:25:21.435535Z"
    }
   },
   "outputs": [],
   "source": [
    "bootstrap_scores_A5 = []\n",
    "for i in range(1000):        \n",
    "    indices_sample = np.random.choice(list(range(len(fifa19_df))),\n",
    "                                     len(fifa19_df), replace=True)\n",
    "    fifa_sample = fifa19_df.iloc[indices_sample]\n",
    "    \n",
    "    X_train, X_test, y_train, y_test = train_test_split(fifa_sample.drop(['Overall'], axis=1), \n",
    "                                                    fifa_sample['Overall'], \n",
    "                                                    test_size=0.30, \n",
    "                                                    random_state=1)\n",
    "    \n",
    "    \n",
    "    ridge = Ridge(alpha=best_alpha_ns_a5)\n",
    "    ridge.fit(X_train, y_train) \n",
    "    \n",
    "    cv_scores = cross_val_score(ridge, X_test, y_test, cv=5, scoring='neg_mean_squared_error')\n",
    "    bootstrap_scores_A5.append(-1*np.average(cv_scores))\n",
    "    \n",
    "with open('./data/bootstrap_scores_A5nonscaled.pkl', 'wb') as fp:\n",
    "    pickle.dump(bootstrap_scores_A5, fp)"
   ]
  },
  {
   "cell_type": "code",
   "execution_count": 33,
   "metadata": {
    "ExecuteTime": {
     "end_time": "2019-11-20T21:26:48.710517Z",
     "start_time": "2019-11-20T21:26:48.576807Z"
    }
   },
   "outputs": [],
   "source": [
    "X_train, X_test, y_train, y_test = train_test_split(fifa19_df.drop(['Overall'], axis=1), \n",
    "                                                    fifa19_df['Overall'], \n",
    "                                                    test_size=0.30, \n",
    "                                                    random_state=1)\n",
    "    \n",
    "    \n",
    "ridge = Ridge(alpha=best_alpha_ns_a5)\n",
    "ridge.fit(X_train, y_train) \n",
    "\n",
    "A5 = -1 * cross_val_score(ridge, X_test, y_test, cv=5, scoring='neg_mean_squared_error')"
   ]
  },
  {
   "cell_type": "code",
   "execution_count": 34,
   "metadata": {
    "ExecuteTime": {
     "end_time": "2019-11-20T21:27:53.961299Z",
     "start_time": "2019-11-20T21:26:48.714571Z"
    }
   },
   "outputs": [],
   "source": [
    "bootstrap_scores_A5_scaled = []\n",
    "for i in range(1000):        \n",
    "    indices_sample = np.random.choice(list(range(len(fifa19_df_scaled))),\n",
    "                                     len(fifa19_df_scaled), replace=True)\n",
    "    fifa_sample = fifa19_df_scaled.iloc[indices_sample]\n",
    "    \n",
    "    X_train, X_test, y_train, y_test = train_test_split(fifa_sample.drop(['Overall'], axis=1), \n",
    "                                                    fifa_sample['Overall'], \n",
    "                                                    test_size=0.30, \n",
    "                                                    random_state=1)\n",
    "    \n",
    "    \n",
    "    ridge = Ridge(alpha=best_alpha_scaled_a5)\n",
    "    ridge.fit(X_train, y_train) \n",
    "    \n",
    "    cv_scores = cross_val_score(ridge, X_test, y_test, cv=5, scoring='neg_mean_squared_error')\n",
    "    bootstrap_scores_A5_scaled.append(-1*np.average(cv_scores))\n",
    "    \n",
    "with open('./data/bootstrap_scores_A5_scaled.pkl', 'wb') as fp:\n",
    "    pickle.dump(bootstrap_scores_A5_scaled, fp)"
   ]
  },
  {
   "cell_type": "code",
   "execution_count": 35,
   "metadata": {
    "ExecuteTime": {
     "end_time": "2019-11-20T21:27:54.168333Z",
     "start_time": "2019-11-20T21:27:53.977043Z"
    }
   },
   "outputs": [],
   "source": [
    "X_train, X_test, y_train, y_test = train_test_split(fifa19_df_scaled.drop(['Overall'], axis=1), \n",
    "                                                    fifa19_df_scaled['Overall'], \n",
    "                                                    test_size=0.30, \n",
    "                                                    random_state=1)\n",
    "    \n",
    "    \n",
    "ridge = Ridge(alpha=best_alpha_scaled_a5)\n",
    "ridge.fit(X_train, y_train) \n",
    "\n",
    "A5_scaled = -1 * cross_val_score(ridge, X_test, y_test, cv=5, scoring='neg_mean_squared_error')"
   ]
  },
  {
   "cell_type": "markdown",
   "metadata": {},
   "source": [
    "From the graph below, we can see that the confidence interval of the model built on fewer features is larger. That means that there is much more variance in this model than in the one using more attributes. <br>\n",
    "Additionally, we can observe that the lower bound of the confidence interval of the mean square error computed on the athletic features is higher than the higher bound of the confidence interval of the model computed with all attributes. <br>\n",
    "Thus, we can conclude that in A3, we ommitted features that would have helped improve the prediction of the players' performances. Indeed, not only is the mean computed on the 1000 samples during the bootstrap sampling lower for the model using the attributes in A5, its confidence interval is narrower than the one with a smaller range of features. This implies that on average the error is lower, and that the variance of the error computed on multiple samples is also lower.\n",
    "<br> In this particular case, we could conclude that adding (*meaningful*) features has improved the algorithm's performance."
   ]
  },
  {
   "cell_type": "code",
   "execution_count": 36,
   "metadata": {
    "ExecuteTime": {
     "end_time": "2019-11-20T21:27:54.814826Z",
     "start_time": "2019-11-20T21:27:54.174621Z"
    },
    "scrolled": false
   },
   "outputs": [
    {
     "data": {
      "image/png": "[encoded data removed]",
      "text/plain": [
       "<Figure size 1440x576 with 2 Axes>"
      ]
     },
     "metadata": {
      "needs_background": "light"
     },
     "output_type": "display_data"
    }
   ],
   "source": [
    "bootstrap_scores_A3 = np.sort(bootstrap_scores_A3)\n",
    "bootstrap_scores_A5 = np.sort(bootstrap_scores_A5)\n",
    "lower_boot_A3 = np.mean(bootstrap_scores_A3[25])\n",
    "higher_boot_A3 = np.mean(bootstrap_scores_A3[975])\n",
    "lower_boot_A5 = np.mean(bootstrap_scores_A5[25])\n",
    "higher_boot_A5 = np.mean(bootstrap_scores_A5[975])\n",
    "\n",
    "bootstrap_scores_A3_scaled = np.sort(bootstrap_scores_A3_scaled)\n",
    "bootstrap_scores_A5_scaled = np.sort(bootstrap_scores_A5_scaled)\n",
    "lower_boot_A3_scaled = np.mean(bootstrap_scores_A3_scaled[25])\n",
    "higher_boot_A3_scaled = np.mean(bootstrap_scores_A3_scaled[975])\n",
    "lower_boot_A5_scaled = np.mean(bootstrap_scores_A5_scaled[25])\n",
    "higher_boot_A5_scaled = np.mean(bootstrap_scores_A5_scaled[975])\n",
    "\n",
    "means = [np.mean(A3), np.mean(A5)]\n",
    "plt.figure(figsize=(20, 8))\n",
    "plt.subplot(1, 2, 1)\n",
    "yerrs = [np.mean(lower_boot_A3 - A3), np.mean(higher_boot_A3 - A3)]\n",
    "plt.bar([0, 1], means, yerr=yerrs, color='paleturquoise')\n",
    "plt.xticks([0, 1], ['athletic attributes from A3', 'fifa attributes from A5'])\n",
    "plt.xlim(-0.5, 1.5)\n",
    "plt.title('Means and Confidence Intervals of the 1000 Bootstrap Samples for the Non Scaled Data')\n",
    "plt.xlabel('Mean (*) and 95% confidence interval (-)')\n",
    "plt.ylabel(\"Mean square error from the bootstrap sampling\")\n",
    "\n",
    "plt.subplot(1, 2, 2)\n",
    "errors = np.array([[lower_boot_A3_scaled, lower_boot_A5_scaled], [higher_boot_A3_scaled, higher_boot_A5_scaled]])\n",
    "means = [np.mean(A3_scaled), np.mean(A5_scaled)]\n",
    "yerrs = [np.mean(lower_boot_A3_scaled - A3_scaled), np.mean(higher_boot_A3_scaled - A3_scaled)]\n",
    "plt.bar([0, 1], means, yerr=yerrs, color='plum')\n",
    "plt.xticks([0, 1], ['athletic attributes from A3', 'fifa attributes from A5'])\n",
    "plt.xlim(-0.5, 1.5)\n",
    "plt.title('Means and Confidence Intervals of the 1000 Bootstrap Samples for the Scaled Data')\n",
    "plt.xlabel('Mean (*) and 95% confidence interval (-)')\n",
    "plt.ylabel(\"Mean square error from the bootstrap sampling\")\n",
    "plt.show()"
   ]
  },
  {
   "cell_type": "markdown",
   "metadata": {},
   "source": [
    "# Task B: Scaling up\n",
    "\n",
    "## Description\n",
    "\n",
    "[Reddit](https://www.reddit.com/) aka *'the front page of the internet'* is a network of over a million *communities* aka *'subreddits'*, each of which covers a different topic based on people's interests. In other words, it is a *massive* collection of forums (corresponding to the aforementioned communities), where people can share content specific to a given topic or comment on other people’s posts.   \n",
    "\n",
    "You are reddit's community manager and want to *appoint new moderators*. Because moderating a specific subreddit isn't a full-time job, you want the chosen moderators to moderate multiple subreddits at the same time. To make this choice effective, the moderators shouldn't have to spend too much time getting to know the community and the prevalent communication style, so it makes sense to let moderators moderate subreddits that are similar in communication style and language. At the same time, it also makes sense to let them moderate subreddits that are similar with respect to the participating users, because this allows moderators to track the behavior of individual users over multiple subreddits. For example, some users might only post offensive content once a month on a given subreddit, and therefore fly under the radar with someone moderating only that subreddit. However, considering all the subreddits these users post to, they might post something offensive every day but on different subreddits. Thus, a moderator in charge of all these subreddits would be able to ban such users much more effectively. In the light of the above description, your task is to find out ways to choose moderators considering both the textual content and the users of a subreddit.\n",
    "\n",
    "### Dataset:\n",
    "The dataset provided to you includes all the posts of the 15 largest subreddits written as of May 2015.\n",
    "\n",
    "Reddit posts (provided to you via a [google drive folder](https://drive.google.com/a/epfl.ch/file/d/19SVHKbUTUPtC9HMmADJcAAIY1Xjq6WFv/view?usp=sharing))\n",
    "```\n",
    "reddit_posts\n",
    " |-- id: id of the post \n",
    " |-- author: user name of the author \n",
    " |-- body: text of the message\n",
    " |-- subreddit: name of the subreddit\n",
    "```\n",
    "\n",
    "Reddit scores (provided to you via a [google drive folder](https://drive.google.com/a/epfl.ch/file/d/1vr4PolJzTXr6ODSe3ucib5EAyp3rjxec/view?usp=sharing))\n",
    "```\n",
    "reddit_scores\n",
    " |-- id: id of the post \n",
    " |-- score: score computed as sum of UP/DOWN votes\n",
    "```\n",
    "\n",
    "*Note: Jaccard similarity between subreddits represented using either the set of top-1000 words or the set of users can be computed locally (on the driver), however, all the other tasks have to be implemented in Spark.*"
   ]
  },
  {
   "cell_type": "markdown",
   "metadata": {},
   "source": [
    "## B1. Getting a sense of the data\n",
    "\n",
    "Start a PySpark instance..."
   ]
  },
  {
   "cell_type": "code",
   "execution_count": 40,
   "metadata": {},
   "outputs": [],
   "source": [
    "import pyspark\n",
    "import pyspark.sql\n",
    "from pyspark.sql import *\n",
    "from pyspark.sql.functions import *\n",
    "import matplotlib.pyplot as plt\n",
    "import numpy as np\n",
    "from pyspark.sql import SQLContext\n",
    "\n",
    "conf = pyspark.SparkConf().setMaster(\"local[*]\").setAll([\n",
    "                                   ('spark.executor.memory', '12g'),  # find\n",
    "                                   ('spark.driver.memory','4g'), # your\n",
    "                                   ('spark.driver.maxResultSize', '6G') # setup\n",
    "                                  ])\n",
    "# create the session\n",
    "spark = SparkSession.builder.config(conf=conf).getOrCreate()\n",
    "\n",
    "# create the context\n",
    "sc = spark.sparkContext\n",
    "\n",
    "# FIX for Spark 2.x\n",
    "locale = sc._jvm.java.util.Locale\n",
    "locale.setDefault(locale.forLanguageTag(\"en-US\"))"
   ]
  },
  {
   "cell_type": "markdown",
   "metadata": {},
   "source": [
    "... and load the data in a Spark dataframe."
   ]
  },
  {
   "cell_type": "code",
   "execution_count": 41,
   "metadata": {},
   "outputs": [],
   "source": [
    "messages_df = spark.read.load(\"./data/messages.json\", format=\"json\")\n",
    "score_df = spark.read.load(\"./data/score.json\", format=\"json\")"
   ]
  },
  {
   "cell_type": "markdown",
   "metadata": {},
   "source": [
    "These are the schemas of the 2 datasets loaded from the files"
   ]
  },
  {
   "cell_type": "code",
   "execution_count": 42,
   "metadata": {},
   "outputs": [
    {
     "name": "stdout",
     "output_type": "stream",
     "text": [
      "root\n",
      " |-- author: string (nullable = true)\n",
      " |-- body: string (nullable = true)\n",
      " |-- id: string (nullable = true)\n",
      " |-- subreddit: string (nullable = true)\n",
      "\n"
     ]
    }
   ],
   "source": [
    "messages_df.printSchema()"
   ]
  },
  {
   "cell_type": "code",
   "execution_count": 43,
   "metadata": {},
   "outputs": [
    {
     "name": "stdout",
     "output_type": "stream",
     "text": [
      "root\n",
      " |-- id: string (nullable = true)\n",
      " |-- score: long (nullable = true)\n",
      "\n"
     ]
    }
   ],
   "source": [
    "score_df.printSchema()"
   ]
  },
  {
   "cell_type": "markdown",
   "metadata": {},
   "source": [
    "### B1.1. Identify the most active subreddit\n",
    "\n",
    "Print the list of subreddits along with the following information:\n",
    "1. The total number of posts\n",
    "2. The number of users with at least 1 message\n",
    "3. The mean message length\n",
    "\n",
    "*Note: Keep everything in one single dataframe and print the list sorted by number of posts in descending order.*"
   ]
  },
  {
   "cell_type": "markdown",
   "metadata": {},
   "source": [
    "We create one DataFrame to answer each questions and then merge them all into one single DataFrame called '*subreddits*'"
   ]
  },
  {
   "cell_type": "code",
   "execution_count": 45,
   "metadata": {},
   "outputs": [],
   "source": [
    "# 1. Total number of posts\n",
    "subreddits = messages_df.groupBy(\"subreddit\")\n",
    "subreddit_activity = subreddits.agg(count(\"*\").alias(\"numPosts\"))"
   ]
  },
  {
   "cell_type": "code",
   "execution_count": 46,
   "metadata": {},
   "outputs": [],
   "source": [
    "# 2. Number of users with at least 1 message\n",
    "users = messages_df.groupBy([\"subreddit\", \"author\"]).count()\n",
    "users_per_subreddit = users.groupBy(\"subreddit\").agg(count(\"*\").alias(\"numUsers\"))"
   ]
  },
  {
   "cell_type": "code",
   "execution_count": 47,
   "metadata": {},
   "outputs": [],
   "source": [
    "# 3. Mean message length\n",
    "message_length = messages_df.withColumn(\"length\", length(\"body\"))\n",
    "message_length = message_length.groupBy(\"subreddit\").agg(mean(\"length\").alias(\"meanLength\"))"
   ]
  },
  {
   "cell_type": "code",
   "execution_count": 48,
   "metadata": {},
   "outputs": [
    {
     "name": "stdout",
     "output_type": "stream",
     "text": [
      "+---------------+--------+--------+------------------+\n",
      "|      subreddit|numPosts|numUsers|        meanLength|\n",
      "+---------------+--------+--------+------------------+\n",
      "|leagueoflegends| 1151287|  119321|152.72280760574904|\n",
      "|            nba|  704862|   45034|106.48656758344187|\n",
      "|          funny|  691139|  224077|106.82283882113438|\n",
      "|           pics|  564502|  205305| 114.9710045314277|\n",
      "|            nfl|  534345|   41593|148.96989211090212|\n",
      "|         videos|  511492|  157628|170.22702603364274|\n",
      "|           news|  477658|   98736| 230.9491602778557|\n",
      "| DestinyTheGame|  471160|   37008|165.41786866457255|\n",
      "|         soccer|  455215|   41648|134.42224663071295|\n",
      "|          DotA2|  445154|   41466|141.48906670500546|\n",
      "|      worldnews|  439417|   99261|224.93754679495785|\n",
      "|  AdviceAnimals|  411902|  115815| 159.2513801826648|\n",
      "|         hockey|  389329|   25568| 95.37287230080472|\n",
      "|GlobalOffensive|  382017|   46686| 147.2883981602913|\n",
      "|         movies|  354601|   92484|164.83209297210104|\n",
      "+---------------+--------+--------+------------------+\n",
      "\n"
     ]
    }
   ],
   "source": [
    "# Join the results from the 3 tables\n",
    "subreddit_stats = subreddit_activity.join(users_per_subreddit, [\"subreddit\"]).join(message_length,[\"subreddit\"])\n",
    "subreddit_stats = subreddit_stats.sort(desc(\"numPosts\"))\n",
    "subreddit_stats.show()"
   ]
  },
  {
   "cell_type": "markdown",
   "metadata": {},
   "source": [
    "The table shows the number of posts made for each subreddit, the number of users and the mean length of the posts published in each subreddit"
   ]
  },
  {
   "cell_type": "markdown",
   "metadata": {},
   "source": [
    "### B1.2. Identify the largest subreddit\n",
    "\n",
    "Print *two* different lists of subreddits: ordered by (1) the number of posts, and (2) the number of users. For each subreddit, print the name and the corresponding counts.\n",
    "\n",
    "Additionally, (3) plot the mean of message length for each subreddit in descending order. Visualise the statistical significance by plotting the 99% confidence intervals for each subreddit as well."
   ]
  },
  {
   "cell_type": "markdown",
   "metadata": {},
   "source": [
    "Since we created the corresponding table in the previous exercise. We can now show the results"
   ]
  },
  {
   "cell_type": "markdown",
   "metadata": {},
   "source": [
    "__1. Number of posts__\n",
    "\n",
    "The following tables shows the number of posts made in each subreddit"
   ]
  },
  {
   "cell_type": "code",
   "execution_count": 49,
   "metadata": {},
   "outputs": [
    {
     "name": "stdout",
     "output_type": "stream",
     "text": [
      "+---------------+--------+\n",
      "|      subreddit|numPosts|\n",
      "+---------------+--------+\n",
      "|leagueoflegends| 1151287|\n",
      "|            nba|  704862|\n",
      "|          funny|  691139|\n",
      "|           pics|  564502|\n",
      "|            nfl|  534345|\n",
      "|         videos|  511492|\n",
      "|           news|  477658|\n",
      "| DestinyTheGame|  471160|\n",
      "|         soccer|  455215|\n",
      "|          DotA2|  445154|\n",
      "|      worldnews|  439417|\n",
      "|  AdviceAnimals|  411902|\n",
      "|         hockey|  389329|\n",
      "|GlobalOffensive|  382017|\n",
      "|         movies|  354601|\n",
      "+---------------+--------+\n",
      "\n"
     ]
    }
   ],
   "source": [
    "num_posts = subreddit_activity.sort(desc(\"numPosts\"))\n",
    "num_posts.show()"
   ]
  },
  {
   "cell_type": "markdown",
   "metadata": {},
   "source": [
    "__2. Number of users__\n",
    "\n",
    "The following tables shows the number users for each subreddit"
   ]
  },
  {
   "cell_type": "code",
   "execution_count": 50,
   "metadata": {},
   "outputs": [
    {
     "name": "stdout",
     "output_type": "stream",
     "text": [
      "+---------------+--------+\n",
      "|      subreddit|numUsers|\n",
      "+---------------+--------+\n",
      "|          funny|  224077|\n",
      "|           pics|  205305|\n",
      "|         videos|  157628|\n",
      "|leagueoflegends|  119321|\n",
      "|  AdviceAnimals|  115815|\n",
      "|      worldnews|   99261|\n",
      "|           news|   98736|\n",
      "|         movies|   92484|\n",
      "|GlobalOffensive|   46686|\n",
      "|            nba|   45034|\n",
      "|         soccer|   41648|\n",
      "|            nfl|   41593|\n",
      "|          DotA2|   41466|\n",
      "| DestinyTheGame|   37008|\n",
      "|         hockey|   25568|\n",
      "+---------------+--------+\n",
      "\n"
     ]
    }
   ],
   "source": [
    "num_users = users_per_subreddit.sort(desc(\"numUsers\"))\n",
    "num_users.show()"
   ]
  },
  {
   "cell_type": "markdown",
   "metadata": {},
   "source": [
    "__3. Mean length__\n",
    "\n",
    "The following tables shows the mean length of the posts made in each subreddit"
   ]
  },
  {
   "cell_type": "code",
   "execution_count": 51,
   "metadata": {
    "scrolled": true
   },
   "outputs": [
    {
     "name": "stdout",
     "output_type": "stream",
     "text": [
      "+---------------+------------------+\n",
      "|      subreddit|        meanLength|\n",
      "+---------------+------------------+\n",
      "|           news| 230.9491602778557|\n",
      "|      worldnews|224.93754679495785|\n",
      "|         videos|170.22702603364274|\n",
      "| DestinyTheGame|165.41786866457255|\n",
      "|         movies|164.83209297210104|\n",
      "|  AdviceAnimals| 159.2513801826648|\n",
      "|leagueoflegends|152.72280760574904|\n",
      "|            nfl|148.96989211090212|\n",
      "|GlobalOffensive| 147.2883981602913|\n",
      "|          DotA2|141.48906670500546|\n",
      "|         soccer|134.42224663071295|\n",
      "|           pics| 114.9710045314277|\n",
      "|          funny|106.82283882113438|\n",
      "|            nba|106.48656758344187|\n",
      "|         hockey| 95.37287230080472|\n",
      "+---------------+------------------+\n",
      "\n"
     ]
    }
   ],
   "source": [
    "message_length = message_length.sort(desc(\"meanLength\"))\n",
    "message_length.show()"
   ]
  },
  {
   "cell_type": "markdown",
   "metadata": {},
   "source": [
    "Finally, we are going to plot the mean message length made in each subreddit with their corresponding 99% confidence intervals (CI).\n",
    "\n",
    "To do so, we assume the mean message length can be modeled with a normal distrubtion, as following the central limit theorem the distribution of means is normal and therefore here since we have a sample of the data we can treat it as t-distribution to build the CI, however since our data is big enough with the smallest subreddit having 350 thousand messages, we can assume it is normally distributed.\n",
    "\n",
    "And we first try the parametric approach by computing the standard error and multiplying it by 2.58 which is the zStat for the 99.5th percentile"
   ]
  },
  {
   "cell_type": "code",
   "execution_count": 127,
   "metadata": {
    "scrolled": true
   },
   "outputs": [
    {
     "data": {
      "text/html": [
       "<div>\n",
       "<style scoped>\n",
       "    .dataframe tbody tr th:only-of-type {\n",
       "        vertical-align: middle;\n",
       "    }\n",
       "\n",
       "    .dataframe tbody tr th {\n",
       "        vertical-align: top;\n",
       "    }\n",
       "\n",
       "    .dataframe thead th {\n",
       "        text-align: right;\n",
       "    }\n",
       "</style>\n",
       "<table border=\"1\" class=\"dataframe\">\n",
       "  <thead>\n",
       "    <tr style=\"text-align: right;\">\n",
       "      <th></th>\n",
       "      <th>subreddit</th>\n",
       "      <th>meanLength</th>\n",
       "      <th>stdLength</th>\n",
       "      <th>numSamples</th>\n",
       "      <th>zStat*stderr</th>\n",
       "    </tr>\n",
       "  </thead>\n",
       "  <tbody>\n",
       "    <tr>\n",
       "      <td>0</td>\n",
       "      <td>news</td>\n",
       "      <td>230.949160</td>\n",
       "      <td>334.516180</td>\n",
       "      <td>477658</td>\n",
       "      <td>1.248758</td>\n",
       "    </tr>\n",
       "    <tr>\n",
       "      <td>1</td>\n",
       "      <td>worldnews</td>\n",
       "      <td>224.937547</td>\n",
       "      <td>355.402419</td>\n",
       "      <td>439417</td>\n",
       "      <td>1.383253</td>\n",
       "    </tr>\n",
       "    <tr>\n",
       "      <td>2</td>\n",
       "      <td>videos</td>\n",
       "      <td>170.227026</td>\n",
       "      <td>290.461162</td>\n",
       "      <td>511492</td>\n",
       "      <td>1.047824</td>\n",
       "    </tr>\n",
       "    <tr>\n",
       "      <td>3</td>\n",
       "      <td>DestinyTheGame</td>\n",
       "      <td>165.417869</td>\n",
       "      <td>225.444718</td>\n",
       "      <td>471160</td>\n",
       "      <td>0.847375</td>\n",
       "    </tr>\n",
       "    <tr>\n",
       "      <td>4</td>\n",
       "      <td>movies</td>\n",
       "      <td>164.832093</td>\n",
       "      <td>255.503286</td>\n",
       "      <td>354601</td>\n",
       "      <td>1.106996</td>\n",
       "    </tr>\n",
       "  </tbody>\n",
       "</table>\n",
       "</div>"
      ],
      "text/plain": [
       "        subreddit  meanLength   stdLength  numSamples  zStat*stderr\n",
       "0            news  230.949160  334.516180      477658      1.248758\n",
       "1       worldnews  224.937547  355.402419      439417      1.383253\n",
       "2          videos  170.227026  290.461162      511492      1.047824\n",
       "3  DestinyTheGame  165.417869  225.444718      471160      0.847375\n",
       "4          movies  164.832093  255.503286      354601      1.106996"
      ]
     },
     "execution_count": 127,
     "metadata": {},
     "output_type": "execute_result"
    }
   ],
   "source": [
    "# Parametric approach\n",
    "\n",
    "message_length = messages_df.withColumn(\"length\", length(\"body\"))\n",
    "message_length = message_length.groupBy(\"subreddit\").agg(mean(\"length\").alias(\"meanLength\"), stddev(\"length\").alias(\"stdLength\"), count(\"length\").alias(\"numSamples\") )\n",
    "message_length = message_length.withColumn(\"zStat*stderr\", lit(2.58) * (message_length.stdLength / sqrt(\"numSamples\")))\n",
    "\n",
    "message_length_pd = message_length.toPandas()\n",
    "message_length_pd = message_length_pd.sort_values([\"meanLength\"],ascending=False)\n",
    "message_length_pd = message_length_pd.reset_index().drop(columns=[\"index\"])\n",
    "message_length_pd.head(5)"
   ]
  },
  {
   "cell_type": "code",
   "execution_count": 128,
   "metadata": {
    "scrolled": true
   },
   "outputs": [
    {
     "data": {
      "image/png": "[encoded data removed]",
      "text/plain": [
       "<Figure size 864x504 with 1 Axes>"
      ]
     },
     "metadata": {
      "needs_background": "light"
     },
     "output_type": "display_data"
    }
   ],
   "source": [
    "message_length_pd.plot.barh(x='subreddit', y='meanLength', xerr='zStat*stderr',\n",
    "                         figsize=(12,7))\n",
    "plt.xlabel('Mean length of messages with error bars')\n",
    "plt.title('Mean length of messages per subreddit with error bars')\n",
    "plt.show()"
   ]
  },
  {
   "cell_type": "markdown",
   "metadata": {},
   "source": [
    "Next, we use a non-parametric approach. We sample the dataset with replacement k times, compute the mean for each time and then use the mean 0.005 quantile and the 0.995 quantiles. The difference of these quantiles with the mean create the 99% confidence intervals for each subreddit.  "
   ]
  },
  {
   "cell_type": "code",
   "execution_count": 70,
   "metadata": {},
   "outputs": [],
   "source": [
    "#non-parametric\n",
    "k = 100\n",
    "\n",
    "# compute the 1st time separately to create the datframe\n",
    "message_length_r = messages_df.sample(True,1.0)\n",
    "message_length_r = message_length_r.withColumn(\"length\", length(\"body\") )\n",
    "message_length_r = message_length_r.groupBy(\"subreddit\").agg(mean(\"length\").alias(\"meanLength\"))\n",
    "\n",
    "for i in range(k-1):\n",
    "    # sample and compute the statistics k-1 times\n",
    "    message_length_k = messages_df.sample(True,1.0)\n",
    "    message_length_k = message_length_k.withColumn(\"length\", length(\"body\"))\n",
    "    message_length_k = message_length_k.groupBy(\"subreddit\").agg(mean(\"length\").alias(\"meanLength\"))\n",
    "    message_length_r = message_length_r.union(message_length_k)"
   ]
  },
  {
   "cell_type": "markdown",
   "metadata": {},
   "source": [
    "Compute the quantiles"
   ]
  },
  {
   "cell_type": "code",
   "execution_count": 71,
   "metadata": {},
   "outputs": [],
   "source": [
    "sqlContext = SQLContext(sc)\n",
    "# Add quantilies to dataframe\n",
    "message_length_r.registerTempTable(\"message_length_r\")\n",
    "message_length_l = sqlContext.sql(\"select subreddit, percentile_approx(meanLength, 0.005) as quantile_l from message_length_r group by subreddit\")\n",
    "message_length_h = sqlContext.sql(\"select subreddit, percentile_approx(meanLength, 0.995) as quantile_h from message_length_r group by subreddit\")"
   ]
  },
  {
   "cell_type": "code",
   "execution_count": 72,
   "metadata": {},
   "outputs": [],
   "source": [
    "# Compute mean length\n",
    "mean_length = messages_df.withColumn(\"length\", length(\"body\"))\n",
    "mean_length = mean_length.groupBy(\"subreddit\").agg(mean(\"length\").alias(\"meanLength\"))"
   ]
  },
  {
   "cell_type": "code",
   "execution_count": 73,
   "metadata": {},
   "outputs": [],
   "source": [
    "message_length_join = message_length_l.join(message_length_h, [\"subreddit\"])\n",
    "message_length_join = message_length_join.join(mean_length, [\"subreddit\"])"
   ]
  },
  {
   "cell_type": "markdown",
   "metadata": {},
   "source": [
    "The table below shows the 0.005 quantile (quantile_l), 0.995 quantile (quantile_h) and the mean for each subreddit in Spark.\n",
    "\n",
    "Now, we are going to create a Pandas dataframe and plot the mean with the corresponding confidence intervals."
   ]
  },
  {
   "cell_type": "code",
   "execution_count": 74,
   "metadata": {},
   "outputs": [
    {
     "data": {
      "text/html": [
       "<div>\n",
       "<style scoped>\n",
       "    .dataframe tbody tr th:only-of-type {\n",
       "        vertical-align: middle;\n",
       "    }\n",
       "\n",
       "    .dataframe tbody tr th {\n",
       "        vertical-align: top;\n",
       "    }\n",
       "\n",
       "    .dataframe thead th {\n",
       "        text-align: right;\n",
       "    }\n",
       "</style>\n",
       "<table border=\"1\" class=\"dataframe\">\n",
       "  <thead>\n",
       "    <tr style=\"text-align: right;\">\n",
       "      <th></th>\n",
       "      <th>subreddit</th>\n",
       "      <th>quantile_l</th>\n",
       "      <th>quantile_h</th>\n",
       "      <th>meanLength</th>\n",
       "    </tr>\n",
       "  </thead>\n",
       "  <tbody>\n",
       "    <tr>\n",
       "      <td>0</td>\n",
       "      <td>news</td>\n",
       "      <td>229.776533</td>\n",
       "      <td>232.326665</td>\n",
       "      <td>230.949160</td>\n",
       "    </tr>\n",
       "    <tr>\n",
       "      <td>1</td>\n",
       "      <td>worldnews</td>\n",
       "      <td>223.689906</td>\n",
       "      <td>226.086031</td>\n",
       "      <td>224.937547</td>\n",
       "    </tr>\n",
       "    <tr>\n",
       "      <td>2</td>\n",
       "      <td>videos</td>\n",
       "      <td>169.385319</td>\n",
       "      <td>171.218125</td>\n",
       "      <td>170.227026</td>\n",
       "    </tr>\n",
       "    <tr>\n",
       "      <td>3</td>\n",
       "      <td>DestinyTheGame</td>\n",
       "      <td>164.773251</td>\n",
       "      <td>166.201076</td>\n",
       "      <td>165.417869</td>\n",
       "    </tr>\n",
       "  </tbody>\n",
       "</table>\n",
       "</div>"
      ],
      "text/plain": [
       "        subreddit  quantile_l  quantile_h  meanLength\n",
       "0            news  229.776533  232.326665  230.949160\n",
       "1       worldnews  223.689906  226.086031  224.937547\n",
       "2          videos  169.385319  171.218125  170.227026\n",
       "3  DestinyTheGame  164.773251  166.201076  165.417869"
      ]
     },
     "execution_count": 74,
     "metadata": {},
     "output_type": "execute_result"
    }
   ],
   "source": [
    "message_length_pd = message_length_join.toPandas()\n",
    "message_length_pd = message_length_pd.sort_values([\"meanLength\"],ascending=False)\n",
    "message_length_pd = message_length_pd.reset_index().drop(columns=[\"index\"])\n",
    "message_length_pd.head(4)"
   ]
  },
  {
   "cell_type": "code",
   "execution_count": 75,
   "metadata": {},
   "outputs": [],
   "source": [
    "xerr=[message_length_pd[\"quantile_l\"] - message_length_pd[\"meanLength\"],\n",
    "      message_length_pd[\"quantile_h\"] - message_length_pd[\"meanLength\"]]"
   ]
  },
  {
   "cell_type": "code",
   "execution_count": 76,
   "metadata": {
    "scrolled": false
   },
   "outputs": [
    {
     "data": {
      "image/png": "[encoded data removed]",
      "text/plain": [
       "<Figure size 864x504 with 1 Axes>"
      ]
     },
     "metadata": {
      "needs_background": "light"
     },
     "output_type": "display_data"
    }
   ],
   "source": [
    "message_length_pd.plot.barh(x='subreddit', y='meanLength', xerr=xerr,\n",
    "                         figsize=(12,7))\n",
    "plt.title('Mean length of messages per subreddit with error bars')\n",
    "plt.xlabel('Mean length of messages with error bars')\n",
    "plt.show()"
   ]
  },
  {
   "cell_type": "markdown",
   "metadata": {},
   "source": [
    "The two plots from the parametric approach and non-parametric approach appear very similar to each other, also looking at the numbers printed before plotting for both approaches we can verify that corresponding intervals seems similar in length but the bootstrap ones sometimes are not symmetric around our original mean."
   ]
  },
  {
   "cell_type": "markdown",
   "metadata": {},
   "source": [
    "### B1.3. Identify the subreddit with the highest average score\n",
    "\n",
    "Print the list of subreddits sorted by their average content scores."
   ]
  },
  {
   "cell_type": "markdown",
   "metadata": {},
   "source": [
    "First, we merge our 2 datasets to obtain the score given to each comment"
   ]
  },
  {
   "cell_type": "code",
   "execution_count": 77,
   "metadata": {},
   "outputs": [
    {
     "name": "stdout",
     "output_type": "stream",
     "text": [
      "+-------+--------------+--------------------+---------+-----+\n",
      "|     id|        author|                body|subreddit|score|\n",
      "+-------+--------------+--------------------+---------+-----+\n",
      "|cqugak4|FIDEL_CASHFLOW|   it's worth a shot|      nfl|    2|\n",
      "|cqugb1r| Heyo_Maggots_|I'm using: http:/...|      nfl|    1|\n",
      "|cqugcoc|        Donk72|Starting to feel ...|    funny|    1|\n",
      "|cqugext|         S8975|           Very cool|     pics|   11|\n",
      "|cqugg53|       brutmax|Jesus a technical...|      nba|   -4|\n",
      "+-------+--------------+--------------------+---------+-----+\n",
      "only showing top 5 rows\n",
      "\n"
     ]
    }
   ],
   "source": [
    "joint = messages_df.join(score_df, [\"id\"])\n",
    "joint.show(5)"
   ]
  },
  {
   "cell_type": "markdown",
   "metadata": {},
   "source": [
    "Then, we group the table by subreddits and calculate the mean score of the subreddit. Eventually we sort the results by score. \n",
    "\n",
    "Looking at the table below, we observe the subreddit '_videos_' is the community with the highest average score. By contrast, '_DestinyTheGame_' has the lowest average score."
   ]
  },
  {
   "cell_type": "code",
   "execution_count": 79,
   "metadata": {
    "scrolled": true
   },
   "outputs": [
    {
     "name": "stdout",
     "output_type": "stream",
     "text": [
      "+---------------+------------------+\n",
      "|      subreddit|      averageScore|\n",
      "+---------------+------------------+\n",
      "|         videos|12.649445152612358|\n",
      "|           pics|12.216559020162904|\n",
      "|          funny|12.041505399058655|\n",
      "|  AdviceAnimals|11.251695791717447|\n",
      "|         soccer|10.634627593554693|\n",
      "|         movies|  9.82014997137628|\n",
      "|            nfl| 9.048348913155358|\n",
      "|            nba| 9.032795071943161|\n",
      "|           news| 8.673421150697779|\n",
      "|      worldnews|  7.86683719564787|\n",
      "|         hockey| 6.520120515039979|\n",
      "|leagueoflegends| 5.983557531701479|\n",
      "|          DotA2| 4.880537971129092|\n",
      "|GlobalOffensive| 4.351442475073099|\n",
      "| DestinyTheGame|3.0288819084811953|\n",
      "+---------------+------------------+\n",
      "\n"
     ]
    }
   ],
   "source": [
    "average_scores = joint.groupBy(\"subreddit\").agg(mean(\"score\").alias(\"averageScore\"))\n",
    "average_scores = average_scores.sort(desc(\"averageScore\"))\n",
    "average_scores.show()"
   ]
  },
  {
   "cell_type": "markdown",
   "metadata": {},
   "source": [
    "## B2. Moderator assignment based on Subreddit Textual Content\n",
    "\n",
    "Different subreddits follow different communication styles inherent in the topic and the community. Having said that, the goal is to discover similar subreddits by only looking at the *words* present in the posted messages. Once such a list of similar subreddits is identified, an appropriately chosen moderator can then be assigned to all these subreddits.\n",
    "\n",
    "Specifically, the task boils down to computing a similarity score between two subreddits based on the *words* present in their textual content. Your first idea is to use the *Jaccard similarity*, which is defined as the size of the intersection of two sets divided by the size of their union.\n",
    "\n",
    "$Jaccard(A,B) = \\frac{|A \\cap B|}{|A \\cup B|}$"
   ]
  },
  {
   "cell_type": "code",
   "execution_count": 81,
   "metadata": {},
   "outputs": [],
   "source": [
    "def jaccard_similarity(list1, list2):\n",
    "    s1 = set(list1)\n",
    "    s2 = set(list2)\n",
    "    return len(s1.intersection(s2)) / len(s1.union(s2))"
   ]
  },
  {
   "cell_type": "markdown",
   "metadata": {},
   "source": [
    "### B2.1.\n",
    "The first step requires constructing a set representation of each subreddit. The goal is to represent each subreddit as a *set of words* existing in the messages posted on that subreddit. Compute the 50,000 most frequent words across all the provided subreddits. Construct a representation for each subreddit by retaining only the words found in the previously identified set of 50,000 frequent words.\n",
    "\n",
    "Some rules:\n",
    " * Words are defined as tokens matching the regular expression `\\W`\n",
    " * Remove all the stop-words (English language)\n",
    "\n",
    "*Note: You might find the [RegexTokenizer](https://spark.apache.org/docs/2.2.0/ml-features.html#tokenizer) and the [StopWordsRemover](https://spark.apache.org/docs/2.2.0/ml-features.html#stopwordsremover) utilities available in the package pyspark.ml useful for this task as they help you in transforming the features and removing stopwords.*"
   ]
  },
  {
   "cell_type": "code",
   "execution_count": 82,
   "metadata": {},
   "outputs": [],
   "source": [
    "from pyspark.ml.feature import Tokenizer, RegexTokenizer\n",
    "from pyspark.ml.feature import StopWordsRemover"
   ]
  },
  {
   "cell_type": "markdown",
   "metadata": {},
   "source": [
    "As noted in the exercise, we make use of '_RegexTokenizer_' and '_StopWordsRemover_' to tokenize the words in the comments and remove the stop-words in English language. The resulting texts are stored in the column _'filtered'_. "
   ]
  },
  {
   "cell_type": "code",
   "execution_count": 83,
   "metadata": {},
   "outputs": [
    {
     "name": "stdout",
     "output_type": "stream",
     "text": [
      "+-----------------+--------------------+-------+---------------+--------------------+\n",
      "|           author|                body|     id|      subreddit|               words|\n",
      "+-----------------+--------------------+-------+---------------+--------------------+\n",
      "|        WyaOfWade|gg this one's ove...|cqug90h|            nba|[gg, this, one, s...|\n",
      "|        BEE_REAL_|Nihilum and LG ar...|cqug90p|GlobalOffensive|[nihilum, and, lg...|\n",
      "|        SlowRolla|Me too. Same hamm...|cqug916|           pics|[me, too, same, h...|\n",
      "|   SenpaiOniichan|well i think new ...|cqug919|leagueoflegends|[well, i, think, ...|\n",
      "|backwoodsofcanada|That's something ...|cqug91n|  AdviceAnimals|[that, s, somethi...|\n",
      "+-----------------+--------------------+-------+---------------+--------------------+\n",
      "only showing top 5 rows\n",
      "\n"
     ]
    }
   ],
   "source": [
    "regexTokenizer = RegexTokenizer(inputCol=\"body\", outputCol=\"words\", pattern=\"\\W\")\n",
    "tokenized = regexTokenizer.transform(messages_df)\n",
    "tokenized.show(5)"
   ]
  },
  {
   "cell_type": "code",
   "execution_count": 84,
   "metadata": {},
   "outputs": [
    {
     "name": "stdout",
     "output_type": "stream",
     "text": [
      "+-----------------+--------------------+-------+---------------+--------------------+--------------------+\n",
      "|           author|                body|     id|      subreddit|               words|            filtered|\n",
      "+-----------------+--------------------+-------+---------------+--------------------+--------------------+\n",
      "|        WyaOfWade|gg this one's ove...|cqug90h|            nba|[gg, this, one, s...|[gg, one, watch, ...|\n",
      "|        BEE_REAL_|Nihilum and LG ar...|cqug90p|GlobalOffensive|[nihilum, and, lg...|[nihilum, lg, sig...|\n",
      "|        SlowRolla|Me too. Same hamm...|cqug916|           pics|[me, too, same, h...|   [hammock, fabric]|\n",
      "|   SenpaiOniichan|well i think new ...|cqug919|leagueoflegends|[well, i, think, ...|[well, think, new...|\n",
      "|backwoodsofcanada|That's something ...|cqug91n|  AdviceAnimals|[that, s, somethi...|[something, hear,...|\n",
      "+-----------------+--------------------+-------+---------------+--------------------+--------------------+\n",
      "only showing top 5 rows\n",
      "\n"
     ]
    }
   ],
   "source": [
    "remover = StopWordsRemover(inputCol=\"words\", outputCol=\"filtered\")\n",
    "noStopWords = remover.transform(tokenized)\n",
    "noStopWords.show(5)"
   ]
  },
  {
   "cell_type": "markdown",
   "metadata": {},
   "source": [
    "\n",
    "\n",
    "Now, we calculate the 50,000 most frequent words in the dataset. \n",
    "\n",
    "To do so, we create a new table with elements (word,1). Then apply group them by words while summing the number of ocurrences. This operation will give us the number of times a word appears in the whole dataset. "
   ]
  },
  {
   "cell_type": "code",
   "execution_count": 85,
   "metadata": {},
   "outputs": [],
   "source": [
    "mostFrequent_cnt = noStopWords.select(explode(\"filtered\").alias(\"words\"))\n",
    "mostFrequent_cnt = mostFrequent_cnt.withColumn(\"counter\", lit(1))\n",
    "mostFrequent_cnt = mostFrequent_cnt.groupBy(\"words\").agg(sum(\"counter\").alias(\"counter\"))"
   ]
  },
  {
   "cell_type": "code",
   "execution_count": 86,
   "metadata": {},
   "outputs": [],
   "source": [
    "# 50,000 most frequent words\n",
    "mostFrequent = mostFrequent_cnt.collect()\n",
    "mostFrequent = [(cnt,w) for w,cnt in mostFrequent]"
   ]
  },
  {
   "cell_type": "markdown",
   "metadata": {},
   "source": [
    "And finallly, we sort the words by the number of times they appeared. Then we select the 50,000 first words and store them in the variable _'mostFrequent50K'_."
   ]
  },
  {
   "cell_type": "code",
   "execution_count": 87,
   "metadata": {},
   "outputs": [],
   "source": [
    "mostFrequent.sort(reverse=True)"
   ]
  },
  {
   "cell_type": "code",
   "execution_count": 88,
   "metadata": {},
   "outputs": [
    {
     "data": {
      "text/plain": [
       "['like', 'people', 'get', 'one', 'think']"
      ]
     },
     "execution_count": 88,
     "metadata": {},
     "output_type": "execute_result"
    }
   ],
   "source": [
    "mostFrequent50K = mostFrequent[:50000]\n",
    "mostFrequent50K = [w for cnt,w in mostFrequent50K]\n",
    "mostFrequent50K[:5]"
   ]
  },
  {
   "cell_type": "markdown",
   "metadata": {},
   "source": [
    "Now, we need to construct a representation for each subreddit by retaining only the words found in the previously identified set of 50,000 frequent words.\n",
    "\n",
    "So we create a new table where contain all expand the texts in each comment as a new row paired with subreddit where it was published. "
   ]
  },
  {
   "cell_type": "code",
   "execution_count": 89,
   "metadata": {},
   "outputs": [
    {
     "name": "stdout",
     "output_type": "stream",
     "text": [
      "+---------+-------+\n",
      "|subreddit|oneWord|\n",
      "+---------+-------+\n",
      "|      nba|     gg|\n",
      "|      nba|    one|\n",
      "|      nba|  watch|\n",
      "|      nba|    nfl|\n",
      "|      nba|  draft|\n",
      "+---------+-------+\n",
      "only showing top 5 rows\n",
      "\n"
     ]
    }
   ],
   "source": [
    "explodedTexts = noStopWords.select([\"subreddit\", explode(\"filtered\").alias(\"oneWord\")])\n",
    "explodedTexts.show(5)"
   ]
  },
  {
   "cell_type": "markdown",
   "metadata": {},
   "source": [
    "Then we remove all the words that are not present in the previosuly identified 50,000 most popular words."
   ]
  },
  {
   "cell_type": "code",
   "execution_count": 90,
   "metadata": {},
   "outputs": [
    {
     "name": "stdout",
     "output_type": "stream",
     "text": [
      "+---------+-------+\n",
      "|subreddit|oneWord|\n",
      "+---------+-------+\n",
      "|      nba|     gg|\n",
      "|      nba|    one|\n",
      "|      nba|  watch|\n",
      "|      nba|    nfl|\n",
      "|      nba|  draft|\n",
      "+---------+-------+\n",
      "only showing top 5 rows\n",
      "\n"
     ]
    }
   ],
   "source": [
    "set50KTexts = explodedTexts.where(explodedTexts.oneWord.isin(mostFrequent50K))\n",
    "set50KTexts.show(5)"
   ]
  },
  {
   "cell_type": "markdown",
   "metadata": {},
   "source": [
    "At the end, we create the representation for each subreddit as the set of words in each subreddit that are present also within the list of 50K most frequent words. The set structure guarantees us that we do not have repeated words."
   ]
  },
  {
   "cell_type": "code",
   "execution_count": 91,
   "metadata": {},
   "outputs": [
    {
     "name": "stdout",
     "output_type": "stream",
     "text": [
      "+-------------+--------------------+\n",
      "|    subreddit|            topWords|\n",
      "+-------------+--------------------+\n",
      "|       hockey|[swamps, thorne, ...|\n",
      "|       videos|[swamps, thorne, ...|\n",
      "|        DotA2|[swamps, thorne, ...|\n",
      "|         news|[swamps, deterior...|\n",
      "|AdviceAnimals|[swamps, thorne, ...|\n",
      "+-------------+--------------------+\n",
      "only showing top 5 rows\n",
      "\n"
     ]
    }
   ],
   "source": [
    "subReddit50KTexts = set50KTexts.groupBy(\"subreddit\").agg(collect_set('oneWord').alias(\"topWords\"))\n",
    "subReddit50KTexts.show(5)"
   ]
  },
  {
   "cell_type": "markdown",
   "metadata": {},
   "source": [
    "### B2.2.\n",
    "* Compute the Jaccard similarity between all the subreddits using the set representation obtained in step **B2.1.**, and plot in a heatmap the similarity values of all the pairs of subreddits.\n",
    "* Analyze this plot and discuss your observations. Do you observe that subreddits corresponding to similar topics possess higher Jaccard similarity?\n",
    "* Provide detailed interpretations of the obtained results. Specifically,\n",
    "    - Explain the limitations of your conclusions, and discuss the potential reasons.\n",
    "    - Explain the potential problems with the Jaccard similarity function."
   ]
  },
  {
   "cell_type": "code",
   "execution_count": 92,
   "metadata": {},
   "outputs": [],
   "source": [
    "from collections import defaultdict\n",
    "import seaborn as sns \n",
    "import pandas as pd"
   ]
  },
  {
   "cell_type": "markdown",
   "metadata": {},
   "source": [
    "We collect our representation of subreddits and compute the jaccard similarity between each of them. Then, we use the library seaborn to create a heatmap with the results. \n",
    "\n",
    "When creating the plot, we remove from the dataframe the values where the same subreddit is being compared. By doing this, we can preserve the color scale since comparing the same subreddit will have a jaccard score of 1."
   ]
  },
  {
   "cell_type": "code",
   "execution_count": 94,
   "metadata": {},
   "outputs": [],
   "source": [
    "topSubWords = subReddit50KTexts.collect()"
   ]
  },
  {
   "cell_type": "code",
   "execution_count": 95,
   "metadata": {},
   "outputs": [],
   "source": [
    "jaccardScores = []\n",
    "names = []\n",
    "for i in range(len(topSubWords)):\n",
    "    row = []\n",
    "    names.append(topSubWords[i][0])\n",
    "    for j in range(len(topSubWords)):\n",
    "        jaccard = jaccard_similarity(topSubWords[i][1],topSubWords[j][1])\n",
    "        row.append(jaccard)\n",
    "    jaccardScores.append(row)"
   ]
  },
  {
   "cell_type": "code",
   "execution_count": 96,
   "metadata": {},
   "outputs": [],
   "source": [
    "topSubWords_df = pd.DataFrame(jaccardScores, columns=names, index=names)"
   ]
  },
  {
   "cell_type": "code",
   "execution_count": 120,
   "metadata": {},
   "outputs": [
    {
     "data": {
      "image/png": "[encoded data removed]",
      "text/plain": [
       "<Figure size 576x504 with 2 Axes>"
      ]
     },
     "metadata": {
      "needs_background": "light"
     },
     "output_type": "display_data"
    }
   ],
   "source": [
    "plt.figure(figsize=(8,7))\n",
    "ax = sns.heatmap(topSubWords_df).set_title('Heat map of word similarities between subreddits using most frequent words over all subreddits', weight='bold')"
   ]
  },
  {
   "cell_type": "markdown",
   "metadata": {},
   "source": [
    "#### Analysis\n",
    "\n",
    "The previous plots presents a heatmap of the Jaccard similarity for all the 15 subreddits.\n",
    "\n",
    "Observing the the plot, we can conclude there can be a relationship that connects the related subreddits with high Jaccard similarity.\n",
    "\n",
    "For instance:\n",
    "\n",
    "- Subreddit *funny* has a high similarity with *videos*, *news*, *AdviceAnimals*, *pics* and *worldnews*. This especially makes sense for *videos* and *pics*. *AdviceAnimals* is a subreddit dedicated to memes. Memes are meant to be funny. And one could argue that many of the news that go viral on Reddit are not always the most series ones. \n",
    "\n",
    "- The subreddit on *GlobalOffensive* stands out because it has low similarities with all the other subreddits. However, we can see it has slightly higher scores with *leagueoflegends* and *dota2*. All these 3 subreddits are dedicated to videogames and there we can find a connection\n",
    "\n",
    "- On the other hand, this model fails to capture the obvious relationship there should be between the subreddits: *nba*, *soccer*, *nfl* and *hockey*. All of them are related to sports. However, there is not an increased similarity score between them. \n",
    "\n",
    "\n",
    "Thus, we can conclude that Jaccard similarity is able to capture some of the relationships between subreddits but not all of them. The main problem wihth this approach is the use of the most popular words. We are comparing the most common words in the communities. And people tend to use the same words over and over. In fact, according to [1], the first 2000 most common words in English can cover nearly 90% of the words covered in a conversation or 87% of fiction books. Therefore, it is the low-frequency words that define the topics of texts and conversations. And in this method we are discarding precisely the low-frequency words. For it to get better, we would need to include as many words as possible.\n",
    "\n",
    "\n",
    "[1]. *Unknown Vocabulary Density and Reading Comprehension.*, Hsueh-Chao et al. Reading in a Foreign Language, v13 n1 p403-30 2000"
   ]
  },
  {
   "cell_type": "markdown",
   "metadata": {},
   "source": [
    "### B2.3.\n",
    "\n",
    "* Alternatively, compute the 1000 most frequent words for each subreddit, construct its representation as the set of top-1000 words, and print a heatmap with the Jaccard similarity like in step **B2.2.**.\n",
    "* Explain your observations in detail: how and why is this new result different from the one obtained in **B2.2.**?\n",
    "\n",
    "*Note: Use the same rules specified in B2.1: words tokenized with the regex \\W and stop-words removed*"
   ]
  },
  {
   "cell_type": "markdown",
   "metadata": {},
   "source": [
    "First, we need to compute the top-1000 words for each subreddit. \n",
    "\n",
    "To do so, we create a row for each filtered word in the comments and attach a column filled with 1's. This will allow us to group by 'subreddit' and 'word' and sum the number of appearances. "
   ]
  },
  {
   "cell_type": "code",
   "execution_count": 98,
   "metadata": {},
   "outputs": [],
   "source": [
    "mostFrequent_subReddit = noStopWords.select(\"subreddit\",explode(\"filtered\").alias(\"words\"),  )\n",
    "mostFrequent_subReddit = mostFrequent_subReddit.withColumn(\"counter\", lit(1))"
   ]
  },
  {
   "cell_type": "code",
   "execution_count": 99,
   "metadata": {},
   "outputs": [
    {
     "name": "stdout",
     "output_type": "stream",
     "text": [
      "+---------------+---------+-------+\n",
      "|      subreddit|    words|counter|\n",
      "+---------------+---------+-------+\n",
      "|         videos|forebears|      2|\n",
      "|         videos|    riots|    442|\n",
      "|         videos|     sure|  13973|\n",
      "|           news| sleeping|    375|\n",
      "|          DotA2|   modify|     45|\n",
      "|leagueoflegends|     gold|  17398|\n",
      "|         movies|   coming|   2939|\n",
      "|leagueoflegends|     case|   9027|\n",
      "|leagueoflegends|    offer|   1676|\n",
      "|  AdviceAnimals|      big|   5553|\n",
      "+---------------+---------+-------+\n",
      "only showing top 10 rows\n",
      "\n"
     ]
    }
   ],
   "source": [
    "mostFrequent_subReddit = mostFrequent_subReddit.groupBy([\"subreddit\", mostFrequent_subReddit.words]).agg( sum(\"counter\").alias(\"counter\") )\n",
    "mostFrequent_subReddit.show(10)"
   ]
  },
  {
   "cell_type": "markdown",
   "metadata": {},
   "source": [
    "In the table above, columne '_counter_' contains the number of occurences of a word in a subreddit. Now, we make use of partitition to order the number of occurrences in each subreddit and select only top 1000 words."
   ]
  },
  {
   "cell_type": "code",
   "execution_count": 100,
   "metadata": {},
   "outputs": [],
   "source": [
    "from pyspark.sql.window import Window\n",
    "from pyspark.sql.functions import rank, col\n",
    "\n",
    "window = Window.partitionBy(mostFrequent_subReddit['subreddit']).orderBy(mostFrequent_subReddit['counter'].desc())"
   ]
  },
  {
   "cell_type": "code",
   "execution_count": 101,
   "metadata": {},
   "outputs": [
    {
     "name": "stdout",
     "output_type": "stream",
     "text": [
      "+---------+-----+-------+----+\n",
      "|subreddit|words|counter|rank|\n",
      "+---------+-----+-------+----+\n",
      "|   hockey| like|  33899|   1|\n",
      "|   hockey| game|  32360|   2|\n",
      "|   hockey|  com|  24312|   3|\n",
      "|   hockey| team|  24072|   4|\n",
      "|   hockey|  one|  22892|   5|\n",
      "+---------+-----+-------+----+\n",
      "only showing top 5 rows\n",
      "\n"
     ]
    }
   ],
   "source": [
    "mostFrequent1K  = mostFrequent_subReddit.select('*', rank().over(window).alias('rank')).filter(col('rank') <= 1000) \n",
    "mostFrequent1K.show(5)"
   ]
  },
  {
   "cell_type": "markdown",
   "metadata": {},
   "source": [
    "Below, we can observe that some subreddits contain more than 1000 words because there were more than 1 word with the 1000 occurrences. "
   ]
  },
  {
   "cell_type": "code",
   "execution_count": 102,
   "metadata": {},
   "outputs": [
    {
     "name": "stdout",
     "output_type": "stream",
     "text": [
      "+-------------+----+\n",
      "|    subreddit| cnt|\n",
      "+-------------+----+\n",
      "|       hockey|1000|\n",
      "|       videos|1002|\n",
      "|        DotA2|1000|\n",
      "|         news|1000|\n",
      "|AdviceAnimals|1002|\n",
      "+-------------+----+\n",
      "only showing top 5 rows\n",
      "\n"
     ]
    }
   ],
   "source": [
    "mostFrequent1K.groupBy(\"subreddit\").agg(count(\"*\").alias(\"cnt\")).show(5)"
   ]
  },
  {
   "cell_type": "markdown",
   "metadata": {},
   "source": [
    "Then we can create a list of the top 1000 words for each subreddit. We only need to group the words by subreddit and collect the list."
   ]
  },
  {
   "cell_type": "code",
   "execution_count": 103,
   "metadata": {},
   "outputs": [
    {
     "name": "stdout",
     "output_type": "stream",
     "text": [
      "+-------------+--------------------+\n",
      "|    subreddit|               words|\n",
      "+-------------+--------------------+\n",
      "|       hockey|[like, game, com,...|\n",
      "|       videos|[like, r, videos,...|\n",
      "|        DotA2|[like, game, get,...|\n",
      "|         news|[people, like, ge...|\n",
      "|AdviceAnimals|[like, people, ge...|\n",
      "+-------------+--------------------+\n",
      "only showing top 5 rows\n",
      "\n"
     ]
    }
   ],
   "source": [
    "subReddit1KTexts = mostFrequent1K.groupBy(\"subreddit\").agg(collect_list(\"words\").alias(\"words\"))\n",
    "subReddit1KTexts.show(5)"
   ]
  },
  {
   "cell_type": "markdown",
   "metadata": {},
   "source": [
    "Finally, we are ready to compute the Jaccard similarity between al the subreddits and plot the results as a heatmap.\n",
    "\n",
    "Similarly, to the previous plot we remove from the table the values where the same subreddit is being compared. "
   ]
  },
  {
   "cell_type": "code",
   "execution_count": 104,
   "metadata": {},
   "outputs": [],
   "source": [
    "topSubWords = subReddit1KTexts.collect()"
   ]
  },
  {
   "cell_type": "code",
   "execution_count": 105,
   "metadata": {},
   "outputs": [],
   "source": [
    "jaccardScores = []\n",
    "names = []\n",
    "for i in range(len(topSubWords)):\n",
    "    row = []\n",
    "    names.append(topSubWords[i][0])\n",
    "    for j in range(len(topSubWords)):\n",
    "        jaccard = jaccard_similarity(topSubWords[i][1],topSubWords[j][1])\n",
    "        \n",
    "        if i == j:\n",
    "            # Remove when compared to the same subreddit\n",
    "            jaccard = np.nan\n",
    "        \n",
    "        row.append(jaccard)\n",
    "    jaccardScores.append(row)\n",
    "        "
   ]
  },
  {
   "cell_type": "code",
   "execution_count": 106,
   "metadata": {},
   "outputs": [],
   "source": [
    "topSubWords_df = pd.DataFrame(jaccardScores, columns=names, index=names)"
   ]
  },
  {
   "cell_type": "code",
   "execution_count": 122,
   "metadata": {},
   "outputs": [
    {
     "data": {
      "image/png": "[encoded data removed]",
      "text/plain": [
       "<Figure size 648x576 with 2 Axes>"
      ]
     },
     "metadata": {
      "needs_background": "light"
     },
     "output_type": "display_data"
    }
   ],
   "source": [
    "plt.figure(figsize=(9,8))\n",
    "ax = sns.heatmap(topSubWords_df).set_title('Heat map of word similarities between subreddits using most frequent words per subreddit', weight='bold')"
   ]
  },
  {
   "cell_type": "markdown",
   "metadata": {},
   "source": [
    "#### Analysis\n",
    "\n",
    "In this case, we have created a set of the 1000-top words different for each subreddit. Compared to the previous approach, this new method is more likely to capture specific words that used a lot of times within a subreddit but not overall all subreddits. For instance, not all subreddits have the same amount of messages and mean message length. Therefore, the previous approach would take more words from the top commented subreddits. While the approach created in B2.3 with 1000-top words per subreddit has a different model for each subreddit. \n",
    "\n",
    "We can see this last approach captures better the relationship between subreddits based on the topic. It gives higher scores to related topics.\n",
    "\n",
    "For instance, '_nba_' is now related to '_nfl_', '_hockey_' and slightly to '_soccer_'. A similar output can been seen with '_nfl_'.\n",
    "\n",
    "Overall, we can conclude this approach captures better the topic relationship between subreddits.\n"
   ]
  },
  {
   "cell_type": "markdown",
   "metadata": {},
   "source": [
    "## B3. Moderator assignment based on Subreddit Users\n",
    "\n",
    "Subreddits can be seen as communities of people interacting about a common topic. As an alternative to the *textual content* based similarity in **B2**, your task here is to validate if similarity between two subreddits can be measured based on their participating users.\n",
    "\n",
    "Of course users are not monothematic, and they interact with multiple subreddits. In this task, we are specifically interested in observing the amount of overlap across different subreddits based on their participating users. Similar to **B2**, the overlap is measured using the *Jaccard similarity*.\n",
    "\n",
    "\n",
    "### B3.1.\n",
    "Construct a set representation of each subreddit as the users that posted at least one time in that subreddit.\n",
    "\n",
    "Some users are very talkative and active across different topics. Print the username of the person that posted in the maximum number of subreddits. *Note that users who posted at least once in a subreddit are considered as participant of that subreddit.*"
   ]
  },
  {
   "cell_type": "code",
   "execution_count": 108,
   "metadata": {
    "scrolled": true
   },
   "outputs": [],
   "source": [
    "# Group by subreddit and get the unique set of authors for each of them.\n",
    "author_set_per_subreddit_spark = messages_df.groupby(\"subreddit\").agg(collect_set(\"author\").alias(\"authors_list\"))"
   ]
  },
  {
   "cell_type": "code",
   "execution_count": 109,
   "metadata": {},
   "outputs": [
    {
     "name": "stdout",
     "output_type": "stream",
     "text": [
      "+-------------+-------+\n",
      "|single_author|counter|\n",
      "+-------------+-------+\n",
      "|      whispen|     15|\n",
      "+-------------+-------+\n",
      "only showing top 1 row\n",
      "\n"
     ]
    }
   ],
   "source": [
    "# Explode the author set and get the author that posts in the maximum number of subreddits\n",
    "exploded_authors = author_set_per_subreddit_spark.select(explode(\"authors_list\").alias(\"single_author\"))\n",
    "exploded_authors = exploded_authors.withColumn(\"counter\", lit(1))\n",
    "exploded_authors = exploded_authors.groupBy(\"single_author\").agg(sum(\"counter\").alias(\"counter\"))\n",
    "exploded_authors = exploded_authors.sort(desc(\"counter\"))\n",
    "exploded_authors.show(1)"
   ]
  },
  {
   "cell_type": "markdown",
   "metadata": {},
   "source": [
    "Whispen is the username of the user who posted on the maximum number of subreddits (15 different subreddtis)."
   ]
  },
  {
   "cell_type": "markdown",
   "metadata": {},
   "source": [
    "### B3.2.\n",
    "\n",
    "* Compute the Jaccard similarity between all the subreddits using the set representation obtained in step **B3.1.**, and visualise it similar to **B2**.\n",
    "* Analyze this plot, identify highly similar pairs of subreddits, and clearly describe your observations."
   ]
  },
  {
   "cell_type": "markdown",
   "metadata": {},
   "source": [
    "We create all the possible pairs of subreddits and loop over them to compute the jaccard_similarities"
   ]
  },
  {
   "cell_type": "code",
   "execution_count": 123,
   "metadata": {},
   "outputs": [
    {
     "data": {
      "image/png": "[encoded data removed]",
      "text/plain": [
       "<Figure size 432x288 with 2 Axes>"
      ]
     },
     "metadata": {
      "needs_background": "light"
     },
     "output_type": "display_data"
    }
   ],
   "source": [
    "# Plot the heatmap for similarities betwee￼n\n",
    "from itertools import combinations_with_replacement\n",
    "\n",
    "# Get the set to python list, create dictionary and get pairs to calculate similarity on them\n",
    "set_per_subreddit_list = author_set_per_subreddit_spark.collect()\n",
    "set_per_subreddit_dict = dict(set_per_subreddit_list)\n",
    "set_keys_pairs = combinations_with_replacement(set_per_subreddit_dict.keys(), r=2)\n",
    "\n",
    "# Create a dictionary for similarities and fill it with empty dictionaries\n",
    "jaccard_similarites = {}\n",
    "[jaccard_similarites.update({key: {}}) for key in set_per_subreddit_dict.keys()]\n",
    "\n",
    "# loop on pairs and calculate similarity between them\n",
    "for subreddit1, subreddit2 in set_keys_pairs:\n",
    "    similarity = jaccard_similarity(set_per_subreddit_dict[subreddit1], set_per_subreddit_dict[subreddit2])\n",
    "    jaccard_similarites[subreddit1].update({subreddit2: similarity})\n",
    "    jaccard_similarites[subreddit2].update({subreddit1: similarity})\n",
    "    \n",
    "jaccard_similarites_df = pd.DataFrame(jaccard_similarites)\n",
    "\n",
    "jaccard_similarites_df.head()\n",
    "ax = sns.heatmap(jaccard_similarites_df).set_title('Heat map of user similarities between subreddits', weight='bold')"
   ]
  },
  {
   "cell_type": "markdown",
   "metadata": {},
   "source": [
    "Here the heat map is not clear as it skewed due to the 1.0 similarity of each subreddit with itself to get a clearer look we just remove these values."
   ]
  },
  {
   "cell_type": "code",
   "execution_count": 124,
   "metadata": {},
   "outputs": [
    {
     "data": {
      "image/png": "[encoded data removed]",
      "text/plain": [
       "<Figure size 432x288 with 2 Axes>"
      ]
     },
     "metadata": {
      "needs_background": "light"
     },
     "output_type": "display_data"
    }
   ],
   "source": [
    "for key in jaccard_similarites.keys():\n",
    "    jaccard_similarites_df.xs(key)[key] = np.nan\n",
    "\n",
    "ax = sns.heatmap(jaccard_similarites_df).set_title('Heat map of user similarities between subreddits', weight='bold')"
   ]
  },
  {
   "cell_type": "markdown",
   "metadata": {},
   "source": [
    "#### Analysis\n",
    "\n",
    "The previous plots presents a heatmap of the Jaccard similarity for all the 15 subreddits according to active users\n",
    "\n",
    "Observing the the plot, we can conclude there can be a relationship that connects the related subreddits with high Jaccard similarity compared to the others values.\n",
    "\n",
    "There are some differences compared to the last plot but the relative trends remain the same:\n",
    "\n",
    "- Subreddit *funny* has a high similarity with *videos*, *news*, *AdviceAnimals*, *pics* and *worldnews*. This especially makes sense for *videos* and *pics*. *AdviceAnimals* is a subreddit dedicated to memes. Memes are meant to be funny. And one could argue that many of the news that go viral on Reddit are not always the most series ones. \n",
    "\n",
    "- The subreddit on *GlobalOffensive* stands out because it has low similarities with all the other subreddits. However, we can see it has slightly higher scores with *leagueoflegends* and *dota2*. All these 3 subreddits are dedicated to videogames and there we can find a connection.\n",
    "\n"
   ]
  },
  {
   "cell_type": "markdown",
   "metadata": {},
   "source": [
    "## B4. Language vs. Users similarity\n",
    "    \n",
    "* Visualize the similarity scores based on word (**B2.3.**) and user (**B3**) similarity on the x and y axes respectively for the subreddit `NBA` compared to all the other subreddits. Do some semantically meaningful groups emerge? Provide clear explanataions of your observations.\n",
    "* Furthermore, do you observe differences in similarities between various sports-related subreddits in the dataset? Please provide explanations of the reasons behind these differences, if any!"
   ]
  },
  {
   "cell_type": "code",
   "execution_count": 112,
   "metadata": {},
   "outputs": [],
   "source": [
    "# Construct a data frame for nba word similarity and user similarity with other subreddits\n",
    "word_similarity = topSubWords_df['nba']\n",
    "user_similarity = jaccard_similarites_df['nba']\n",
    "\n",
    "nba_similarity_df = pd.concat([word_similarity, user_similarity], axis=1)\n",
    "nba_similarity_df.columns = ['word_similarity', 'user_similarity']"
   ]
  },
  {
   "cell_type": "code",
   "execution_count": 117,
   "metadata": {
    "scrolled": true
   },
   "outputs": [
    {
     "data": {
      "image/png": "[encoded data removed]",
      "text/plain": [
       "<Figure size 864x720 with 1 Axes>"
      ]
     },
     "metadata": {
      "needs_background": "light"
     },
     "output_type": "display_data"
    }
   ],
   "source": [
    "# Plot scatter plot for similarities\n",
    "nba_similarity_df.plot.scatter(x='word_similarity', y='user_similarity', figsize=(12,10))\n",
    "plt.xlabel()\n",
    "\n",
    "for i, subreddit in enumerate(nba_similarity_df.index):\n",
    "    if subreddit == \"nba\":\n",
    "        continue\n",
    "    plt.text(x=nba_similarity_df.iloc[i][0], y=nba_similarity_df.iloc[i][1], s=subreddit)"
   ]
  },
  {
   "cell_type": "markdown",
   "metadata": {},
   "source": [
    "#### Analysis\n",
    "\n",
    "The plot shows some semantically meaningful groups of levels of similarities with the nba subreddits:\n",
    "- The sports subreddits seem to have the highest level of similarities with nba though not consistent between both similarity metrics.\n",
    "- The entertaiment related subreddits appears to be clustered in the middle.\n",
    "- Two more clusters appear with low levels of similarity with nba one representing news subreddits and the other represents games subreddits.\n"
   ]
  },
  {
   "cell_type": "code",
   "execution_count": 114,
   "metadata": {},
   "outputs": [],
   "source": [
    "# Isolate sports related subreddits\n",
    "word_similarity_sports = topSubWords_df[['hockey', 'nfl', 'soccer', 'nba']].loc[['hockey', 'nfl', 'soccer', 'nba']]\n",
    "user_similarity_sports = jaccard_similarites_df[['hockey', 'nfl', 'soccer', 'nba']].loc[['hockey', 'nfl', 'soccer', 'nba']]"
   ]
  },
  {
   "cell_type": "code",
   "execution_count": 126,
   "metadata": {},
   "outputs": [
    {
     "data": {
      "image/png": "[encoded data removed]",
      "text/plain": [
       "<Figure size 432x288 with 2 Axes>"
      ]
     },
     "metadata": {
      "needs_background": "light"
     },
     "output_type": "display_data"
    }
   ],
   "source": [
    "# Plot seperate word similarity for sports subreddits\n",
    "ax = sns.heatmap(word_similarity_sports).set_title('Heat map of word similarities between sports subreddits', weight='bold')"
   ]
  },
  {
   "cell_type": "code",
   "execution_count": 125,
   "metadata": {},
   "outputs": [
    {
     "data": {
      "image/png": "[encoded data removed]",
      "text/plain": [
       "<Figure size 432x288 with 2 Axes>"
      ]
     },
     "metadata": {
      "needs_background": "light"
     },
     "output_type": "display_data"
    }
   ],
   "source": [
    "# Plot seperate user similarity for sports subreddits\n",
    "ay = sns.heatmap(user_similarity_sports).set_title('Heat map of user similarities between sports subreddits', weight='bold')"
   ]
  },
  {
   "cell_type": "markdown",
   "metadata": {},
   "source": [
    "#### Analysis\n",
    "\n",
    "The previous two heatmaps show the word and user similarities between sports subreddits, and we can observe some patterns in them:\n",
    "\n",
    "- NBA and NFL seem to have higher level of similarities compared to the rest on average which is very predictable with both being popular in the United States and 54% of reddit users are from the United States.\n",
    "- Hockey seems to have very high word similarity with NBA.\n",
    "- Hockey and NFL seem to have a reasonable average of similarity may be because both are popular in Canada."
   ]
  }
 ],
 "metadata": {
  "kernelspec": {
   "display_name": "Python [conda env:ada]",
   "language": "python",
   "name": "conda-env-ada-py"
  },
  "language_info": {
   "codemirror_mode": {
    "name": "ipython",
    "version": 3
   },
   "file_extension": ".py",
   "mimetype": "text/x-python",
   "name": "python",
   "nbconvert_exporter": "python",
   "pygments_lexer": "ipython3",
   "version": "3.7.4"
  },
  "toc": {
   "base_numbering": 1,
   "nav_menu": {},
   "number_sections": true,
   "sideBar": true,
   "skip_h1_title": false,
   "title_cell": "Table of Contents",
   "title_sidebar": "Contents",
   "toc_cell": false,
   "toc_position": {},
   "toc_section_display": true,
   "toc_window_display": false
  }
 },
 "nbformat": 4,
 "nbformat_minor": 4
}
